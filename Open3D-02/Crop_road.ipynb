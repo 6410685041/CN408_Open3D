{
 "cells": [
  {
   "cell_type": "code",
   "execution_count": 2,
   "id": "52924e9e-1907-482d-890f-de6f03ed1d45",
   "metadata": {
    "tags": []
   },
   "outputs": [
    {
     "name": "stdout",
     "output_type": "stream",
     "text": [
      "Jupyter environment detected. Enabling Open3D WebVisualizer.\n",
      "[Open3D INFO] WebRTC GUI backend enabled.\n",
      "[Open3D INFO] WebRTCWindowSystem: HTTP handshake server disabled.\n",
      "0.18.0\n"
     ]
    }
   ],
   "source": [
    "import open3d as o3d\n",
    "print(o3d.__version__)\n",
    "import numpy as np\n",
    "import pandas as pd\n",
    "import polars as pl\n",
    "import colorsys"
   ]
  },
  {
   "cell_type": "code",
   "execution_count": 48,
   "id": "6b05aada-ed01-48a3-b6f5-66a8bec8810f",
   "metadata": {
    "tags": []
   },
   "outputs": [
    {
     "name": "stdout",
     "output_type": "stream",
     "text": [
      "kota_circuit\n",
      "PointCloud with 14640197 points.\n",
      "[[  82.07930756 -147.18885803  -78.15903473]\n",
      " [  97.60070801  149.98822021  -53.49351883]\n",
      " [  70.49710846 -229.24028015  -78.54177856]\n",
      " ...\n",
      " [  26.64775658  -36.49408722  -89.59648132]\n",
      " [ -88.472229     49.91682816  -75.39753723]\n",
      " [ -23.17474937  335.25888062 -102.58750916]]\n"
     ]
    }
   ],
   "source": [
    "print(\"kota_circuit\")\n",
    "ply_point_cloud = o3d.data.PLYPointCloud()\n",
    "pcd = o3d.io.read_point_cloud(\"../Open3D-01/Dataset/kota_circuit2.ply\")\n",
    "print(pcd)\n",
    "print(np.asarray(pcd.points))"
   ]
  },
  {
   "cell_type": "code",
   "execution_count": 49,
   "id": "7b05f8f8-f2de-425a-bbd6-2b8b2debb867",
   "metadata": {},
   "outputs": [
    {
     "name": "stdout",
     "output_type": "stream",
     "text": [
      "render file\n"
     ]
    }
   ],
   "source": [
    "print(\"render file\")\n",
    "o3d.visualization.draw_geometries([pcd],\n",
    "                                  zoom=0.3412,\n",
    "                                  front=[0.4257, -0.2125, -0.8795],\n",
    "                                  lookat=[2.6172, 2.0475, 1.532],\n",
    "                                  up=[-0.0694, -0.9768, 0.2024])"
   ]
  },
  {
   "cell_type": "code",
   "execution_count": 50,
   "id": "c18957d0-5e70-49ac-8865-52811d2694ee",
   "metadata": {
    "tags": []
   },
   "outputs": [],
   "source": [
    "# for cropping area by manual -> cropped_kota_circuit\n",
    "# o3d.visualization.draw_geometries_with_editing([pcd])\n",
    "crop_pcd = o3d.io.read_point_cloud(\"Data/cropped_road.ply\")\n",
    "o3d.visualization.draw_geometries([crop_pcd])"
   ]
  },
  {
   "cell_type": "code",
   "execution_count": 51,
   "id": "f4514fb7-35d6-402c-9aec-9b3fa3004fcf",
   "metadata": {
    "tags": []
   },
   "outputs": [
    {
     "name": "stdout",
     "output_type": "stream",
     "text": [
      "PointCloud with 2915323 points.\n",
      "[[-18.5238533  105.0320282  -95.51685333]\n",
      " [ 27.83203697  29.22127914 -90.54051971]\n",
      " [ 57.42870331 -15.37507629 -89.91012573]\n",
      " ...\n",
      " [-24.05081367 228.32498169 -94.57554626]\n",
      " [ 39.06476593 -49.5741539  -89.21252441]\n",
      " [ 26.64775658 -36.49408722 -89.59648132]]\n"
     ]
    }
   ],
   "source": [
    "print(crop_pcd)\n",
    "print(np.asarray(crop_pcd.points))"
   ]
  },
  {
   "cell_type": "code",
   "execution_count": 52,
   "id": "1940a14e-3e96-4661-9541-df1f131d9e44",
   "metadata": {
    "tags": []
   },
   "outputs": [
    {
     "name": "stdout",
     "output_type": "stream",
     "text": [
      "Normal Vector\n"
     ]
    }
   ],
   "source": [
    "print(\"Normal Vector\")\n",
    "crop_pcd.estimate_normals(\n",
    "    search_param=o3d.geometry.KDTreeSearchParamHybrid(radius=0.1, max_nn=30))\n",
    "o3d.visualization.draw_geometries([crop_pcd],\n",
    "                                  point_show_normal=True)"
   ]
  },
  {
   "cell_type": "code",
   "execution_count": 53,
   "id": "66ce9870-ebee-4aac-baa2-1122d8e60e2c",
   "metadata": {
    "tags": []
   },
   "outputs": [
    {
     "name": "stdout",
     "output_type": "stream",
     "text": [
      "point cloud: \n",
      " [[-18.5238533  105.0320282  -95.51685333]\n",
      " [ 27.83203697  29.22127914 -90.54051971]\n",
      " [ 57.42870331 -15.37507629 -89.91012573]\n",
      " ...\n",
      " [-24.05081367 228.32498169 -94.57554626]\n",
      " [ 39.06476593 -49.5741539  -89.21252441]\n",
      " [ 26.64775658 -36.49408722 -89.59648132]]\n",
      "\n",
      "normal vector: \n",
      " [[ 0.          0.          1.        ]\n",
      " [ 0.          0.          1.        ]\n",
      " [ 0.87776204  0.30015999  0.37341369]\n",
      " ...\n",
      " [ 0.09973728  0.12625676 -0.98697097]\n",
      " [-0.70574554  0.70522761 -0.06765539]\n",
      " [ 0.0470352  -0.9870053   0.15364969]]\n",
      "\n",
      "color point: \n",
      " [[0.19215686 0.17254902 0.16078431]\n",
      " [0.4        0.43921569 0.26666667]\n",
      " [0.55294118 0.55294118 0.57254902]\n",
      " ...\n",
      " [0.74509804 0.72941176 0.6627451 ]\n",
      " [0.41960784 0.44705882 0.29019608]\n",
      " [0.35686275 0.32941176 0.23137255]]\n"
     ]
    }
   ],
   "source": [
    "# Setting\n",
    "point_cloud = np.asarray(crop_pcd.points) \n",
    "color_point = np.asarray(crop_pcd.colors)\n",
    "normal_vector = np.asarray(crop_pcd.normals)\n",
    "\n",
    "print(\"point cloud: \\n\", point_cloud)\n",
    "print()\n",
    "print(\"normal vector: \\n\", normal_vector)\n",
    "print()\n",
    "print(\"color point: \\n\", color_point)"
   ]
  },
  {
   "cell_type": "code",
   "execution_count": 54,
   "id": "43722d50-2f7d-42a1-96f9-0f808d48de53",
   "metadata": {
    "tags": []
   },
   "outputs": [],
   "source": [
    "# for filter by color\n",
    "for i in range(len(point_cloud)):\n",
    "    r = color_point[i][0]\n",
    "    g = color_point[i][1]\n",
    "    b = color_point[i][2]\n",
    "    h, s, v = colorsys.rgb_to_hsv(r,g,b)\n",
    "    \n",
    "    # check if it isn't green or black\n",
    "    cond_h = not (h >= 80/360*100 and h <= 260/360*100)\n",
    "    cond_s = (s >= 0 and s <= 20/100)\n",
    "    cond_v = v>50/100\n",
    "    \n",
    "    if (cond_h and cond_s and cond_v):           # this isn't green condition\n",
    "        normal_vector[i][2] = normal_vector[i][2]\n",
    "    else:                                        # this is green condition\n",
    "        normal_vector[i][2] = 0.5"
   ]
  },
  {
   "cell_type": "code",
   "execution_count": 55,
   "id": "b555c632-023f-49a6-8a08-b7d59983e2e9",
   "metadata": {
    "tags": []
   },
   "outputs": [
    {
     "data": {
      "text/plain": [
       "True"
      ]
     },
     "execution_count": 55,
     "metadata": {},
     "output_type": "execute_result"
    }
   ],
   "source": [
    "# Save to .ply in ASCII\n",
    "output_file_path = \"Data/cropped_ASCII.ply\"\n",
    "\n",
    "o3d.io.write_point_cloud(output_file_path, crop_pcd, write_ascii=True)"
   ]
  },
  {
   "cell_type": "code",
   "execution_count": 56,
   "id": "b659820e-83f9-4f9c-ba05-e6150399e0a2",
   "metadata": {
    "tags": []
   },
   "outputs": [
    {
     "name": "stdout",
     "output_type": "stream",
     "text": [
      "shape: (2_915_323, 9)\n",
      "┌──────────┬──────────┬──────────┬───────────┬───┬───────────┬─────┬─────┬─────┐\n",
      "│ x        ┆ y        ┆ z        ┆ nx        ┆ … ┆ nz        ┆ r   ┆ g   ┆ b   │\n",
      "│ ---      ┆ ---      ┆ ---      ┆ ---       ┆   ┆ ---       ┆ --- ┆ --- ┆ --- │\n",
      "│ str      ┆ str      ┆ str      ┆ str       ┆   ┆ str       ┆ str ┆ str ┆ str │\n",
      "╞══════════╪══════════╪══════════╪═══════════╪═══╪═══════════╪═════╪═════╪═════╡\n",
      "│ -18.5239 ┆ 105.032  ┆ -95.5169 ┆ 0         ┆ … ┆ 0.5       ┆ 49  ┆ 44  ┆ 41  │\n",
      "│ 27.832   ┆ 29.2213  ┆ -90.5405 ┆ 0         ┆ … ┆ 0.5       ┆ 102 ┆ 112 ┆ 68  │\n",
      "│ 57.4287  ┆ -15.3751 ┆ -89.9101 ┆ 0.877762  ┆ … ┆ 0.373414  ┆ 141 ┆ 141 ┆ 146 │\n",
      "│ -38.122  ┆ 161.518  ┆ -93.5807 ┆ 0         ┆ … ┆ 1         ┆ 189 ┆ 197 ┆ 201 │\n",
      "│ -54.9689 ┆ 99.5871  ┆ -92.1375 ┆ 0.193967  ┆ … ┆ -0.875274 ┆ 213 ┆ 219 ┆ 219 │\n",
      "│ …        ┆ …        ┆ …        ┆ …         ┆ … ┆ …         ┆ …   ┆ …   ┆ …   │\n",
      "│ 37.2285  ┆ 27.1855  ┆ -90.6008 ┆ 0.0162607 ┆ … ┆ 0.5       ┆ 141 ┆ 142 ┆ 105 │\n",
      "│ 32.0531  ┆ 96.8018  ┆ -92.2696 ┆ 0         ┆ … ┆ 1         ┆ 176 ┆ 182 ┆ 188 │\n",
      "│ -24.0508 ┆ 228.325  ┆ -94.5755 ┆ 0.0997373 ┆ … ┆ -0.986971 ┆ 190 ┆ 186 ┆ 169 │\n",
      "│ 39.0648  ┆ -49.5742 ┆ -89.2125 ┆ -0.705746 ┆ … ┆ 0.5       ┆ 107 ┆ 114 ┆ 74  │\n",
      "│ 26.6478  ┆ -36.4941 ┆ -89.5965 ┆ 0.0470352 ┆ … ┆ 0.5       ┆ 91  ┆ 84  ┆ 59  │\n",
      "└──────────┴──────────┴──────────┴───────────┴───┴───────────┴─────┴─────┴─────┘\n"
     ]
    }
   ],
   "source": [
    "# set to Dataframe\n",
    "file_path = 'Data/cropped_ASCII.ply'\n",
    "\n",
    "data = []\n",
    "check = False\n",
    "\n",
    "with open(file_path, 'r') as file:\n",
    "    for line in file:\n",
    "        if check :\n",
    "            row = line.strip().split()\n",
    "            data.append(row)\n",
    "        elif \"end_header\" in line:\n",
    "            check = True\n",
    "            \n",
    "df = pl.DataFrame(data, schema=['x','y','z','nx','ny','nz','r','g','b'])\n",
    "print(df)"
   ]
  },
  {
   "cell_type": "code",
   "execution_count": 57,
   "id": "eeb0ef05-1429-49d7-9270-733d5e5db78f",
   "metadata": {
    "tags": []
   },
   "outputs": [
    {
     "name": "stdout",
     "output_type": "stream",
     "text": [
      "shape: (844_085, 9)\n",
      "┌──────────┬─────────┬──────────┬─────┬───┬─────┬─────┬─────┬─────┐\n",
      "│ x        ┆ y       ┆ z        ┆ nx  ┆ … ┆ nz  ┆ r   ┆ g   ┆ b   │\n",
      "│ ---      ┆ ---     ┆ ---      ┆ --- ┆   ┆ --- ┆ --- ┆ --- ┆ --- │\n",
      "│ str      ┆ str     ┆ str      ┆ str ┆   ┆ str ┆ str ┆ str ┆ str │\n",
      "╞══════════╪═════════╪══════════╪═════╪═══╪═════╪═════╪═════╪═════╡\n",
      "│ -38.122  ┆ 161.518 ┆ -93.5807 ┆ 0   ┆ … ┆ 1   ┆ 189 ┆ 197 ┆ 201 │\n",
      "│ -29.8598 ┆ 256.955 ┆ -94.7837 ┆ 0   ┆ … ┆ 1   ┆ 188 ┆ 187 ┆ 156 │\n",
      "│ -24.2454 ┆ 221.546 ┆ -94.5748 ┆ 0   ┆ … ┆ 1   ┆ 163 ┆ 157 ┆ 147 │\n",
      "│ 12.9111  ┆ 88.0813 ┆ -91.3888 ┆ 0   ┆ … ┆ 1   ┆ 160 ┆ 161 ┆ 166 │\n",
      "│ 37.1636  ┆ 71.8371 ┆ -91.612  ┆ 0   ┆ … ┆ 1   ┆ 163 ┆ 162 ┆ 166 │\n",
      "│ …        ┆ …       ┆ …        ┆ …   ┆ … ┆ …   ┆ …   ┆ …   ┆ …   │\n",
      "│ -14.6972 ┆ 263.148 ┆ -94.6149 ┆ 0   ┆ … ┆ 1   ┆ 181 ┆ 185 ┆ 181 │\n",
      "│ 65.9688  ┆ -24.609 ┆ -89.5823 ┆ 0   ┆ … ┆ 1   ┆ 133 ┆ 138 ┆ 141 │\n",
      "│ 31.743   ┆ 147.465 ┆ -93.2448 ┆ 0   ┆ … ┆ 1   ┆ 201 ┆ 211 ┆ 213 │\n",
      "│ 18.1897  ┆ 88.2536 ┆ -91.5558 ┆ 0   ┆ … ┆ 1   ┆ 163 ┆ 163 ┆ 167 │\n",
      "│ 32.0531  ┆ 96.8018 ┆ -92.2696 ┆ 0   ┆ … ┆ 1   ┆ 176 ┆ 182 ┆ 188 │\n",
      "└──────────┴─────────┴──────────┴─────┴───┴─────┴─────┴─────┴─────┘\n"
     ]
    }
   ],
   "source": [
    "filter_crop = df.filter(\n",
    "    # with normal vector\n",
    "    (df['nz'] >= 0.9) &\n",
    "    (-0.2<df['ny']) & (df['ny']<0.2) &\n",
    "    (-0.2<df['nx']) & (df['nx']<0.2)\n",
    "    # with color\n",
    "    # ~( (df['g']>=df['b']) & (df['g']>=df['r']) ) \n",
    ")\n",
    "\n",
    "print(filter_crop)"
   ]
  },
  {
   "cell_type": "code",
   "execution_count": 58,
   "id": "2f568b79-5794-487f-8ce3-9372886e1ad5",
   "metadata": {
    "tags": []
   },
   "outputs": [],
   "source": [
    "# Credit by Kit\n",
    "\n",
    "with open(\"Data/filtered_crop.ply\", 'w') as file:\n",
    "    with open(\"Data/cropped_ASCII.ply\", 'r') as ori_file:\n",
    "        for line in ori_file:\n",
    "            if \"end_header\" in line:\n",
    "                file.write(line)\n",
    "                ori_file.close()\n",
    "                break\n",
    "            else:\n",
    "                if \"element vertex\" in line:\n",
    "                    file.write(\"element vertex {}\\n\".format(filter_crop.shape[0]))\n",
    "                    continue\n",
    "                file.write(line)\n",
    "    for row in filter_crop.to_dicts():\n",
    "        file.write(str(row['x']) + ' ')\n",
    "        file.write(str(row['y']) + ' ')\n",
    "        file.write(str(row['z']) + ' ')\n",
    "        file.write(str(row['nx']) + ' ')\n",
    "        file.write(str(row['ny']) + ' ')\n",
    "        file.write(str(row['nz']) + ' ')\n",
    "        file.write(str(row['r']) + ' ')\n",
    "        file.write(str(row['g']) + ' ')\n",
    "        file.write(str(row['b']) + '\\n')"
   ]
  },
  {
   "cell_type": "code",
   "execution_count": 59,
   "id": "f357fafd-a72e-4dfa-8449-d5274363416e",
   "metadata": {
    "tags": []
   },
   "outputs": [
    {
     "name": "stdout",
     "output_type": "stream",
     "text": [
      "PointCloud with 844085 points.\n",
      "[Open3D WARNING] GLFW Error: WGL: Failed to make context current: The handle is invalid. \n",
      "[Open3D WARNING] GLFW Error: WGL: Failed to make context current: The requested transformation operation is not supported. \n",
      "[Open3D WARNING] GLFW Error: WGL: Failed to make context current: The requested transformation operation is not supported. \n"
     ]
    }
   ],
   "source": [
    "path_filter_crop = \"Data/filtered_crop.ply\"\n",
    "\n",
    "filter_crop_pcd = o3d.io.read_point_cloud(path_filter_crop)\n",
    "print(filter_crop_pcd)\n",
    "o3d.visualization.draw_geometries([filter_crop_pcd])"
   ]
  },
  {
   "cell_type": "code",
   "execution_count": null,
   "id": "6477f381-cc83-442e-b5ba-33b0e67000c5",
   "metadata": {},
   "outputs": [],
   "source": []
  }
 ],
 "metadata": {
  "kernelspec": {
   "display_name": "Python 3 (ipykernel)",
   "language": "python",
   "name": "python3"
  },
  "language_info": {
   "codemirror_mode": {
    "name": "ipython",
    "version": 3
   },
   "file_extension": ".py",
   "mimetype": "text/x-python",
   "name": "python",
   "nbconvert_exporter": "python",
   "pygments_lexer": "ipython3",
   "version": "3.11.5"
  }
 },
 "nbformat": 4,
 "nbformat_minor": 5
}
