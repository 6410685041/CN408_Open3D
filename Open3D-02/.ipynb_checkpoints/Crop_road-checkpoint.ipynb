{
 "cells": [
  {
   "cell_type": "code",
   "execution_count": 2,
   "id": "52924e9e-1907-482d-890f-de6f03ed1d45",
   "metadata": {
    "tags": []
   },
   "outputs": [
    {
     "name": "stdout",
     "output_type": "stream",
     "text": [
      "0.18.0\n"
     ]
    }
   ],
   "source": [
    "import open3d as o3d\n",
    "print(o3d.__version__)\n",
    "import numpy as np\n",
    "import pandas as pd\n",
    "import polars as pl\n",
    "import colorsys"
   ]
  },
  {
   "cell_type": "code",
   "execution_count": 4,
   "id": "6b05aada-ed01-48a3-b6f5-66a8bec8810f",
   "metadata": {
    "tags": []
   },
   "outputs": [
    {
     "name": "stdout",
     "output_type": "stream",
     "text": [
      "kota_circuit\n",
      "PointCloud with 14640197 points.\n",
      "[[  82.07930756 -147.18885803  -78.15903473]\n",
      " [  97.60070801  149.98822021  -53.49351883]\n",
      " [  70.49710846 -229.24028015  -78.54177856]\n",
      " ...\n",
      " [  26.64775658  -36.49408722  -89.59648132]\n",
      " [ -88.472229     49.91682816  -75.39753723]\n",
      " [ -23.17474937  335.25888062 -102.58750916]]\n"
     ]
    }
   ],
   "source": [
    "print(\"kota_circuit\")\n",
    "ply_point_cloud = o3d.data.PLYPointCloud()\n",
    "pcd = o3d.io.read_point_cloud(\"../Open3D-01/Dataset/kota_circuit2.ply\")\n",
    "print(pcd)\n",
    "print(np.asarray(pcd.points))"
   ]
  },
  {
   "cell_type": "code",
   "execution_count": 5,
   "id": "7b05f8f8-f2de-425a-bbd6-2b8b2debb867",
   "metadata": {},
   "outputs": [
    {
     "name": "stdout",
     "output_type": "stream",
     "text": [
      "render file\n"
     ]
    }
   ],
   "source": [
    "print(\"render file\")\n",
    "o3d.visualization.draw_geometries([pcd],\n",
    "                                  zoom=0.3412,\n",
    "                                  front=[0.4257, -0.2125, -0.8795],\n",
    "                                  lookat=[2.6172, 2.0475, 1.532],\n",
    "                                  up=[-0.0694, -0.9768, 0.2024])"
   ]
  },
  {
   "cell_type": "code",
   "execution_count": 8,
   "id": "c18957d0-5e70-49ac-8865-52811d2694ee",
   "metadata": {
    "tags": []
   },
   "outputs": [],
   "source": [
    "# for cropping area by manual -> cropped_kota_circuit\n",
    "# o3d.visualization.draw_geometries_with_editing([pcd])\n",
    "crop_pcd = o3d.io.read_point_cloud(\"Data/cropped_road.ply\")\n",
    "o3d.visualization.draw_geometries([crop_pcd])"
   ]
  },
  {
   "cell_type": "code",
   "execution_count": 9,
   "id": "f4514fb7-35d6-402c-9aec-9b3fa3004fcf",
   "metadata": {
    "tags": []
   },
   "outputs": [
    {
     "name": "stdout",
     "output_type": "stream",
     "text": [
      "PointCloud with 2915323 points.\n",
      "[[-18.5238533  105.0320282  -95.51685333]\n",
      " [ 27.83203697  29.22127914 -90.54051971]\n",
      " [ 57.42870331 -15.37507629 -89.91012573]\n",
      " ...\n",
      " [-24.05081367 228.32498169 -94.57554626]\n",
      " [ 39.06476593 -49.5741539  -89.21252441]\n",
      " [ 26.64775658 -36.49408722 -89.59648132]]\n"
     ]
    }
   ],
   "source": [
    "print(crop_pcd)\n",
    "print(np.asarray(crop_pcd.points))"
   ]
  },
  {
   "cell_type": "code",
   "execution_count": 10,
   "id": "1940a14e-3e96-4661-9541-df1f131d9e44",
   "metadata": {
    "tags": []
   },
   "outputs": [
    {
     "name": "stdout",
     "output_type": "stream",
     "text": [
      "Normal Vector\n"
     ]
    }
   ],
   "source": [
    "print(\"Normal Vector\")\n",
    "crop_pcd.estimate_normals(\n",
    "    search_param=o3d.geometry.KDTreeSearchParamHybrid(radius=0.1, max_nn=30))\n",
    "o3d.visualization.draw_geometries([crop_pcd],\n",
    "                                  point_show_normal=True)"
   ]
  },
  {
   "cell_type": "code",
   "execution_count": 11,
   "id": "66ce9870-ebee-4aac-baa2-1122d8e60e2c",
   "metadata": {
    "tags": []
   },
   "outputs": [
    {
     "name": "stdout",
     "output_type": "stream",
     "text": [
      "point cloud: \n",
      " [[-18.5238533  105.0320282  -95.51685333]\n",
      " [ 27.83203697  29.22127914 -90.54051971]\n",
      " [ 57.42870331 -15.37507629 -89.91012573]\n",
      " ...\n",
      " [-24.05081367 228.32498169 -94.57554626]\n",
      " [ 39.06476593 -49.5741539  -89.21252441]\n",
      " [ 26.64775658 -36.49408722 -89.59648132]]\n",
      "\n",
      "normal vector: \n",
      " [[ 0.          0.          1.        ]\n",
      " [ 0.          0.          1.        ]\n",
      " [ 0.87776204  0.30015999  0.37341369]\n",
      " ...\n",
      " [ 0.09973728  0.12625676 -0.98697097]\n",
      " [-0.70574554  0.70522761 -0.06765539]\n",
      " [ 0.0470352  -0.9870053   0.15364969]]\n",
      "\n",
      "color point: \n",
      " [[0.19215686 0.17254902 0.16078431]\n",
      " [0.4        0.43921569 0.26666667]\n",
      " [0.55294118 0.55294118 0.57254902]\n",
      " ...\n",
      " [0.74509804 0.72941176 0.6627451 ]\n",
      " [0.41960784 0.44705882 0.29019608]\n",
      " [0.35686275 0.32941176 0.23137255]]\n"
     ]
    }
   ],
   "source": [
    "# Setting\n",
    "point_cloud = np.asarray(crop_pcd.points) \n",
    "color_point = np.asarray(crop_pcd.colors)\n",
    "normal_vector = np.asarray(crop_pcd.normals)\n",
    "\n",
    "print(\"point cloud: \\n\", point_cloud)\n",
    "print()\n",
    "print(\"normal vector: \\n\", normal_vector)\n",
    "print()\n",
    "print(\"color point: \\n\", color_point)"
   ]
  },
  {
   "cell_type": "code",
   "execution_count": null,
   "id": "43722d50-2f7d-42a1-96f9-0f808d48de53",
   "metadata": {
    "tags": []
   },
   "outputs": [],
   "source": [
    "# for filter by color\n",
    "for i in range(len(point_cloud)):\n",
    "    r = color_point[i][0]\n",
    "    g = color_point[i][1]\n",
    "    b = color_point[i][2]\n",
    "    h, s, v = colorsys.rgb_to_hsv(r,g,b)\n",
    "    \n",
    "    # check if it isn't green and black\n",
    "    cond_h = not (h >= 80/360*100 and h <= 260/360*100)\n",
    "    cond_s = (s >= 0 and s <= 20/100)\n",
    "    cond_v = v>50/100\n",
    "    \n",
    "    if (cond_h and cond_s and cond_v):             # this isn't green condition\n",
    "        normal_vector[i][2] = 1.0\n",
    "    else:                               # this is green condition\n",
    "        normal_vector[i][2] = 0.5"
   ]
  },
  {
   "cell_type": "code",
   "execution_count": null,
   "id": "b555c632-023f-49a6-8a08-b7d59983e2e9",
   "metadata": {
    "tags": []
   },
   "outputs": [],
   "source": [
    "# Save to .ply in ASCII\n",
    "output_file_path = \"Data/cropped_ASCII.ply\"\n",
    "\n",
    "o3d.io.write_point_cloud(output_file_path, crop_pcd, write_ascii=True)"
   ]
  },
  {
   "cell_type": "code",
   "execution_count": null,
   "id": "b659820e-83f9-4f9c-ba05-e6150399e0a2",
   "metadata": {
    "tags": []
   },
   "outputs": [],
   "source": [
    "# set to Dataframe\n",
    "file_path = 'Data/cropped_ASCII.ply'\n",
    "\n",
    "data = []\n",
    "check = False\n",
    "\n",
    "with open(file_path, 'r') as file:\n",
    "    for line in file:\n",
    "        if check :\n",
    "            row = line.strip().split()\n",
    "            data.append(row)\n",
    "        elif \"end_header\" in line:\n",
    "            check = True\n",
    "            \n",
    "df = pl.DataFrame(data, schema=['x','y','z','nx','ny','nz','r','g','b'])\n",
    "print(df)"
   ]
  },
  {
   "cell_type": "code",
   "execution_count": null,
   "id": "eeb0ef05-1429-49d7-9270-733d5e5db78f",
   "metadata": {
    "tags": []
   },
   "outputs": [],
   "source": [
    "filter_crop = df.filter(\n",
    "    # with normal vector\n",
    "    (df['nz'] >= 0.9) &\n",
    "    (-0.2<df['ny']) & (df['ny']<0.2) &\n",
    "    (-0.2<df['nx']) & (df['nx']<0.2)\n",
    "    # with color\n",
    "    # ~( (df['g']>=df['b']) & (df['g']>=df['r']) ) \n",
    ")\n",
    "\n",
    "print(filter_crop)"
   ]
  },
  {
   "cell_type": "code",
   "execution_count": null,
   "id": "2f568b79-5794-487f-8ce3-9372886e1ad5",
   "metadata": {
    "tags": []
   },
   "outputs": [],
   "source": [
    "# Credit by Kit\n",
    "\n",
    "with open(\"Data/filtered_crop.ply\", 'w') as file:\n",
    "    with open(\"Data/cropped_ASCII.ply\", 'r') as ori_file:\n",
    "        for line in ori_file:\n",
    "            if \"end_header\" in line:\n",
    "                file.write(line)\n",
    "                ori_file.close()\n",
    "                break\n",
    "            else:\n",
    "                if \"element vertex\" in line:\n",
    "                    file.write(\"element vertex {}\\n\".format(filter_crop.shape[0]))\n",
    "                    continue\n",
    "                file.write(line)\n",
    "    for row in filter_crop.to_dicts():\n",
    "        file.write(str(row['x']) + ' ')\n",
    "        file.write(str(row['y']) + ' ')\n",
    "        file.write(str(row['z']) + ' ')\n",
    "        file.write(str(row['nx']) + ' ')\n",
    "        file.write(str(row['ny']) + ' ')\n",
    "        file.write(str(row['nz']) + ' ')\n",
    "        file.write(str(row['r']) + ' ')\n",
    "        file.write(str(row['g']) + ' ')\n",
    "        file.write(str(row['b']) + '\\n')"
   ]
  },
  {
   "cell_type": "code",
   "execution_count": null,
   "id": "f357fafd-a72e-4dfa-8449-d5274363416e",
   "metadata": {
    "tags": []
   },
   "outputs": [],
   "source": [
    "path_filter_crop = \"Data/filtered_crop.ply\"\n",
    "\n",
    "filter_crop_pcd = o3d.io.read_point_cloud(path_filter_crop)\n",
    "print(filter_crop_pcd)\n",
    "o3d.visualization.draw_geometries([filter_crop_pcd])"
   ]
  },
  {
   "cell_type": "code",
   "execution_count": null,
   "id": "6477f381-cc83-442e-b5ba-33b0e67000c5",
   "metadata": {},
   "outputs": [],
   "source": []
  }
 ],
 "metadata": {
  "kernelspec": {
   "display_name": "Python 3 (ipykernel)",
   "language": "python",
   "name": "python3"
  },
  "language_info": {
   "codemirror_mode": {
    "name": "ipython",
    "version": 3
   },
   "file_extension": ".py",
   "mimetype": "text/x-python",
   "name": "python",
   "nbconvert_exporter": "python",
   "pygments_lexer": "ipython3",
   "version": "3.11.5"
  }
 },
 "nbformat": 4,
 "nbformat_minor": 5
}
