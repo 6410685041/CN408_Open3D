{
 "cells": [
  {
   "cell_type": "code",
   "execution_count": 1,
   "id": "f5ded836-23ad-49ba-854e-78730caaf3cc",
   "metadata": {
    "tags": []
   },
   "outputs": [
    {
     "name": "stdout",
     "output_type": "stream",
     "text": [
      "Jupyter environment detected. Enabling Open3D WebVisualizer.\n",
      "[Open3D INFO] WebRTC GUI backend enabled.\n",
      "[Open3D INFO] WebRTCWindowSystem: HTTP handshake server disabled.\n",
      "0.18.0\n"
     ]
    }
   ],
   "source": [
    "import open3d as o3d\n",
    "print(o3d.__version__)\n",
    "import numpy as np"
   ]
  },
  {
   "cell_type": "code",
   "execution_count": 2,
   "id": "373c154b-c3bb-469a-878f-fb132beb3e5a",
   "metadata": {
    "tags": []
   },
   "outputs": [
    {
     "name": "stdout",
     "output_type": "stream",
     "text": [
      "iphone7\n",
      "PointCloud with 8076963 points.\n",
      "[[-1033.32434082  1316.9284668  -1062.46020508]\n",
      " [-1022.46795654  1315.88684082 -1062.16821289]\n",
      " [-1011.65161133  1314.84265137 -1061.86083984]\n",
      " ...\n",
      " [15163.73046875  4870.33691406  -860.22692871]\n",
      " [15154.33007812  4861.89550781  -859.56201172]\n",
      " [15145.42675781  4854.18017578  -859.59936523]]\n"
     ]
    }
   ],
   "source": [
    "print(\"iphone7\")\n",
    "ply_point_cloud = o3d.data.PLYPointCloud()\n",
    "pcd = o3d.io.read_point_cloud(\"Dataset/iphone7.ply\")\n",
    "print(pcd)\n",
    "print(np.asarray(pcd.points))"
   ]
  },
  {
   "cell_type": "code",
   "execution_count": 3,
   "id": "4df15975-2105-4c82-8d17-c724e032e887",
   "metadata": {
    "tags": []
   },
   "outputs": [
    {
     "name": "stdout",
     "output_type": "stream",
     "text": [
      "render file\n"
     ]
    }
   ],
   "source": [
    "print(\"render file\")\n",
    "o3d.visualization.draw_geometries([pcd],\n",
    "                                  zoom=0.3412,\n",
    "                                  front=[0.4257, -0.2125, -0.8795],\n",
    "                                  lookat=[2.6172, 2.0475, 1.532],\n",
    "                                  up=[-0.0694, -0.9768, 0.2024])"
   ]
  },
  {
   "cell_type": "code",
   "execution_count": 4,
   "id": "2d9bf587-58cc-4baf-9b4b-d6012c4fd44a",
   "metadata": {
    "tags": []
   },
   "outputs": [
    {
     "name": "stdout",
     "output_type": "stream",
     "text": [
      "[Open3D WARNING] GLFW Error: WGL: Failed to make context current: The handle is invalid. \n",
      "PointCloud with 90136 points.\n",
      "[[  803.26074219 -3977.0300293   -152.76725769]\n",
      " [ 3733.50134277 -3929.17156982  2150.73927816]\n",
      " [10734.22546757  2210.58466994  -869.53037917]\n",
      " ...\n",
      " [17074.61035156  4678.70483398  -838.30380249]\n",
      " [16320.92382812  5476.44677734  -759.29882812]\n",
      " [16045.97705078  5341.6965332   -836.31436157]]\n"
     ]
    }
   ],
   "source": [
    "downpcd = pcd.voxel_down_sample(voxel_size=50)\n",
    "o3d.visualization.draw_geometries([downpcd],\n",
    "                                  zoom=0.3412,\n",
    "                                  front=[0.4257, -0.2125, -0.8795],\n",
    "                                  lookat=[2.6172, 2.0475, 1.532],\n",
    "                                  up=[-0.0694, -0.9768, 0.2024])\n",
    "print(downpcd)\n",
    "print(np.asarray(downpcd.points))"
   ]
  },
  {
   "cell_type": "code",
   "execution_count": 17,
   "id": "85284253-98d7-49ca-83c2-5c1e3d40c831",
   "metadata": {
    "tags": []
   },
   "outputs": [
    {
     "name": "stdout",
     "output_type": "stream",
     "text": [
      "X min: -4913.54638671875\n",
      "X max: 17421.35546875\n",
      "Y min: -4585.103515625\n",
      "Y max: 6308.805594308035\n",
      "Z min: -1333.4604666573662\n",
      "Z max: 4766.04248046875\n"
     ]
    }
   ],
   "source": [
    "downpcd_array = np.asarray(downpcd.points)\n",
    "\n",
    "x_min = np.min(downpcd_array[:, 0])\n",
    "x_max = np.max(downpcd_array[:, 0])\n",
    "y_min = np.min(downpcd_array[:, 1])\n",
    "y_max = np.max(downpcd_array[:, 1])\n",
    "z_min = np.min(downpcd_array[:, 2])\n",
    "z_max = np.max(downpcd_array[:, 2])\n",
    "\n",
    "print(\"X min:\", x_min)\n",
    "print(\"X max:\", x_max)\n",
    "print(\"Y min:\", y_min)\n",
    "print(\"Y max:\", y_max)\n",
    "print(\"Z min:\", z_min)\n",
    "print(\"Z max:\", z_max)"
   ]
  },
  {
   "cell_type": "code",
   "execution_count": 7,
   "id": "386cb1fe-5998-428c-a660-8d0e658f1f6b",
   "metadata": {
    "tags": []
   },
   "outputs": [],
   "source": [
    "'''\n",
    "set point\n",
    "x - front/rear road\n",
    "y - left/right road\n",
    "z - top/down road\n",
    "'''\n",
    "\n",
    "max_bound = np.array([18000,4500,5000])\n",
    "min_bound = np.array([-2000,-1700,-2000 ])\n",
    "\n",
    "#render crop\n",
    "crop_box = o3d.geometry.AxisAlignedBoundingBox(min_bound, max_bound)\n",
    "\n",
    "crop_downpcd = downpcd.crop(crop_box)\n",
    "o3d.visualization.draw_geometries([crop_downpcd])"
   ]
  },
  {
   "cell_type": "code",
   "execution_count": 8,
   "id": "0952ccc7-3ecd-4fb5-899d-d62461bd6b50",
   "metadata": {
    "tags": []
   },
   "outputs": [],
   "source": [
    "#save into json\n",
    "import json\n",
    "\n",
    "crop_dict = {\n",
    "    \"min_bound\": crop_box.min_bound.tolist(),\n",
    "    \"max_bound\": crop_box.max_bound.tolist()\n",
    "}\n",
    "\n",
    "with open(\"Dataset/crop.json\", \"w\") as json_file:\n",
    "    json.dump(crop_dict, json_file)"
   ]
  },
  {
   "cell_type": "code",
   "execution_count": null,
   "id": "1b5049fd-bdbb-474e-b201-c5c0db78aeb0",
   "metadata": {},
   "outputs": [],
   "source": []
  }
 ],
 "metadata": {
  "kernelspec": {
   "display_name": "Python 3 (ipykernel)",
   "language": "python",
   "name": "python3"
  },
  "language_info": {
   "codemirror_mode": {
    "name": "ipython",
    "version": 3
   },
   "file_extension": ".py",
   "mimetype": "text/x-python",
   "name": "python",
   "nbconvert_exporter": "python",
   "pygments_lexer": "ipython3",
   "version": "3.11.5"
  }
 },
 "nbformat": 4,
 "nbformat_minor": 5
}
