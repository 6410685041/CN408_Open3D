{
 "cells": [
  {
   "cell_type": "code",
   "execution_count": 3,
   "id": "ddc5fee5",
   "metadata": {},
   "outputs": [
    {
     "name": "stdout",
     "output_type": "stream",
     "text": [
      "Collecting open3d\n",
      "  Obtaining dependency information for open3d from https://files.pythonhosted.org/packages/43/ee/1c0f25a57b43849fb9f1e773e5c065aa3363b49313bdbdfb7b35337bbab3/open3d-0.18.0-cp311-cp311-win_amd64.whl.metadata\n",
      "  Using cached open3d-0.18.0-cp311-cp311-win_amd64.whl.metadata (4.1 kB)\n",
      "Requirement already satisfied: numpy>=1.18.0 in c:\\users\\hp\\anaconda3\\lib\\site-packages (from open3d) (1.24.3)\n",
      "Collecting dash>=2.6.0 (from open3d)\n",
      "  Obtaining dependency information for dash>=2.6.0 from https://files.pythonhosted.org/packages/7b/62/438626ab498869249e99376684ba6d88931e7c2dd86d03a92d9d7a9b4c54/dash-2.14.2-py3-none-any.whl.metadata\n",
      "  Using cached dash-2.14.2-py3-none-any.whl.metadata (11 kB)\n",
      "Requirement already satisfied: werkzeug>=2.2.3 in c:\\users\\hp\\anaconda3\\lib\\site-packages (from open3d) (2.2.3)\n",
      "Requirement already satisfied: nbformat>=5.7.0 in c:\\users\\hp\\anaconda3\\lib\\site-packages (from open3d) (5.9.2)\n",
      "Collecting configargparse (from open3d)\n",
      "  Obtaining dependency information for configargparse from https://files.pythonhosted.org/packages/6f/b3/b4ac838711fd74a2b4e6f746703cf9dd2cf5462d17dac07e349234e21b97/ConfigArgParse-1.7-py3-none-any.whl.metadata\n",
      "  Using cached ConfigArgParse-1.7-py3-none-any.whl.metadata (23 kB)\n",
      "Requirement already satisfied: ipywidgets>=8.0.4 in c:\\users\\hp\\anaconda3\\lib\\site-packages (from open3d) (8.0.4)\n",
      "Requirement already satisfied: Flask<3.1,>=1.0.4 in c:\\users\\hp\\anaconda3\\lib\\site-packages (from dash>=2.6.0->open3d) (2.2.2)\n",
      "Requirement already satisfied: plotly>=5.0.0 in c:\\users\\hp\\anaconda3\\lib\\site-packages (from dash>=2.6.0->open3d) (5.9.0)\n",
      "Collecting dash-html-components==2.0.0 (from dash>=2.6.0->open3d)\n",
      "  Using cached dash_html_components-2.0.0-py3-none-any.whl (4.1 kB)\n",
      "Collecting dash-core-components==2.0.0 (from dash>=2.6.0->open3d)\n",
      "  Using cached dash_core_components-2.0.0-py3-none-any.whl (3.8 kB)\n",
      "Collecting dash-table==5.0.0 (from dash>=2.6.0->open3d)\n",
      "  Using cached dash_table-5.0.0-py3-none-any.whl (3.9 kB)\n",
      "Requirement already satisfied: typing-extensions>=4.1.1 in c:\\users\\hp\\anaconda3\\lib\\site-packages (from dash>=2.6.0->open3d) (4.7.1)\n",
      "Requirement already satisfied: requests in c:\\users\\hp\\anaconda3\\lib\\site-packages (from dash>=2.6.0->open3d) (2.31.0)\n",
      "Collecting retrying (from dash>=2.6.0->open3d)\n",
      "  Using cached retrying-1.3.4-py3-none-any.whl (11 kB)\n",
      "Collecting ansi2html (from dash>=2.6.0->open3d)\n",
      "  Obtaining dependency information for ansi2html from https://files.pythonhosted.org/packages/42/d7/1bc3433a2406b891182c25a7926abe3eb19af5870d540375ebf7795885b3/ansi2html-1.9.1-py3-none-any.whl.metadata\n",
      "  Using cached ansi2html-1.9.1-py3-none-any.whl.metadata (3.7 kB)\n",
      "Requirement already satisfied: nest-asyncio in c:\\users\\hp\\anaconda3\\lib\\site-packages (from dash>=2.6.0->open3d) (1.5.6)\n",
      "Requirement already satisfied: setuptools in c:\\users\\hp\\anaconda3\\lib\\site-packages (from dash>=2.6.0->open3d) (68.0.0)\n",
      "Requirement already satisfied: importlib-metadata in c:\\users\\hp\\anaconda3\\lib\\site-packages (from dash>=2.6.0->open3d) (6.0.0)\n",
      "Requirement already satisfied: ipykernel>=4.5.1 in c:\\users\\hp\\anaconda3\\lib\\site-packages (from ipywidgets>=8.0.4->open3d) (6.25.0)\n",
      "Requirement already satisfied: ipython>=6.1.0 in c:\\users\\hp\\anaconda3\\lib\\site-packages (from ipywidgets>=8.0.4->open3d) (8.15.0)\n",
      "Requirement already satisfied: traitlets>=4.3.1 in c:\\users\\hp\\anaconda3\\lib\\site-packages (from ipywidgets>=8.0.4->open3d) (5.7.1)\n",
      "Requirement already satisfied: widgetsnbextension~=4.0 in c:\\users\\hp\\anaconda3\\lib\\site-packages (from ipywidgets>=8.0.4->open3d) (4.0.5)\n",
      "Requirement already satisfied: jupyterlab-widgets~=3.0 in c:\\users\\hp\\anaconda3\\lib\\site-packages (from ipywidgets>=8.0.4->open3d) (3.0.5)\n",
      "Requirement already satisfied: fastjsonschema in c:\\users\\hp\\anaconda3\\lib\\site-packages (from nbformat>=5.7.0->open3d) (2.16.2)\n",
      "Requirement already satisfied: jsonschema>=2.6 in c:\\users\\hp\\anaconda3\\lib\\site-packages (from nbformat>=5.7.0->open3d) (4.17.3)\n",
      "Requirement already satisfied: jupyter-core in c:\\users\\hp\\anaconda3\\lib\\site-packages (from nbformat>=5.7.0->open3d) (5.3.0)\n",
      "Requirement already satisfied: MarkupSafe>=2.1.1 in c:\\users\\hp\\anaconda3\\lib\\site-packages (from werkzeug>=2.2.3->open3d) (2.1.1)\n",
      "Requirement already satisfied: Jinja2>=3.0 in c:\\users\\hp\\anaconda3\\lib\\site-packages (from Flask<3.1,>=1.0.4->dash>=2.6.0->open3d) (3.1.2)\n",
      "Requirement already satisfied: itsdangerous>=2.0 in c:\\users\\hp\\anaconda3\\lib\\site-packages (from Flask<3.1,>=1.0.4->dash>=2.6.0->open3d) (2.0.1)\n",
      "Requirement already satisfied: click>=8.0 in c:\\users\\hp\\anaconda3\\lib\\site-packages (from Flask<3.1,>=1.0.4->dash>=2.6.0->open3d) (8.0.4)\n",
      "Requirement already satisfied: comm>=0.1.1 in c:\\users\\hp\\anaconda3\\lib\\site-packages (from ipykernel>=4.5.1->ipywidgets>=8.0.4->open3d) (0.1.2)\n",
      "Requirement already satisfied: debugpy>=1.6.5 in c:\\users\\hp\\anaconda3\\lib\\site-packages (from ipykernel>=4.5.1->ipywidgets>=8.0.4->open3d) (1.6.7)\n",
      "Requirement already satisfied: jupyter-client>=6.1.12 in c:\\users\\hp\\anaconda3\\lib\\site-packages (from ipykernel>=4.5.1->ipywidgets>=8.0.4->open3d) (7.4.9)\n",
      "Requirement already satisfied: matplotlib-inline>=0.1 in c:\\users\\hp\\anaconda3\\lib\\site-packages (from ipykernel>=4.5.1->ipywidgets>=8.0.4->open3d) (0.1.6)\n",
      "Requirement already satisfied: packaging in c:\\users\\hp\\anaconda3\\lib\\site-packages (from ipykernel>=4.5.1->ipywidgets>=8.0.4->open3d) (23.1)\n",
      "Requirement already satisfied: psutil in c:\\users\\hp\\anaconda3\\lib\\site-packages (from ipykernel>=4.5.1->ipywidgets>=8.0.4->open3d) (5.9.0)\n",
      "Requirement already satisfied: pyzmq>=20 in c:\\users\\hp\\anaconda3\\lib\\site-packages (from ipykernel>=4.5.1->ipywidgets>=8.0.4->open3d) (23.2.0)\n",
      "Requirement already satisfied: tornado>=6.1 in c:\\users\\hp\\anaconda3\\lib\\site-packages (from ipykernel>=4.5.1->ipywidgets>=8.0.4->open3d) (6.3.2)\n",
      "Requirement already satisfied: backcall in c:\\users\\hp\\anaconda3\\lib\\site-packages (from ipython>=6.1.0->ipywidgets>=8.0.4->open3d) (0.2.0)\n",
      "Requirement already satisfied: decorator in c:\\users\\hp\\anaconda3\\lib\\site-packages (from ipython>=6.1.0->ipywidgets>=8.0.4->open3d) (5.1.1)\n",
      "Requirement already satisfied: jedi>=0.16 in c:\\users\\hp\\anaconda3\\lib\\site-packages (from ipython>=6.1.0->ipywidgets>=8.0.4->open3d) (0.18.1)\n",
      "Requirement already satisfied: pickleshare in c:\\users\\hp\\anaconda3\\lib\\site-packages (from ipython>=6.1.0->ipywidgets>=8.0.4->open3d) (0.7.5)\n",
      "Requirement already satisfied: prompt-toolkit!=3.0.37,<3.1.0,>=3.0.30 in c:\\users\\hp\\anaconda3\\lib\\site-packages (from ipython>=6.1.0->ipywidgets>=8.0.4->open3d) (3.0.36)\n",
      "Requirement already satisfied: pygments>=2.4.0 in c:\\users\\hp\\anaconda3\\lib\\site-packages (from ipython>=6.1.0->ipywidgets>=8.0.4->open3d) (2.15.1)\n",
      "Requirement already satisfied: stack-data in c:\\users\\hp\\anaconda3\\lib\\site-packages (from ipython>=6.1.0->ipywidgets>=8.0.4->open3d) (0.2.0)\n",
      "Requirement already satisfied: colorama in c:\\users\\hp\\anaconda3\\lib\\site-packages (from ipython>=6.1.0->ipywidgets>=8.0.4->open3d) (0.4.6)\n",
      "Requirement already satisfied: attrs>=17.4.0 in c:\\users\\hp\\anaconda3\\lib\\site-packages (from jsonschema>=2.6->nbformat>=5.7.0->open3d) (22.1.0)\n",
      "Requirement already satisfied: pyrsistent!=0.17.0,!=0.17.1,!=0.17.2,>=0.14.0 in c:\\users\\hp\\anaconda3\\lib\\site-packages (from jsonschema>=2.6->nbformat>=5.7.0->open3d) (0.18.0)\n",
      "Requirement already satisfied: platformdirs>=2.5 in c:\\users\\hp\\anaconda3\\lib\\site-packages (from jupyter-core->nbformat>=5.7.0->open3d) (3.10.0)\n",
      "Requirement already satisfied: pywin32>=300 in c:\\users\\hp\\anaconda3\\lib\\site-packages (from jupyter-core->nbformat>=5.7.0->open3d) (305.1)\n",
      "Requirement already satisfied: tenacity>=6.2.0 in c:\\users\\hp\\anaconda3\\lib\\site-packages (from plotly>=5.0.0->dash>=2.6.0->open3d) (8.2.2)\n",
      "Requirement already satisfied: zipp>=0.5 in c:\\users\\hp\\anaconda3\\lib\\site-packages (from importlib-metadata->dash>=2.6.0->open3d) (3.11.0)\n",
      "Requirement already satisfied: charset-normalizer<4,>=2 in c:\\users\\hp\\anaconda3\\lib\\site-packages (from requests->dash>=2.6.0->open3d) (2.0.4)\n",
      "Requirement already satisfied: idna<4,>=2.5 in c:\\users\\hp\\anaconda3\\lib\\site-packages (from requests->dash>=2.6.0->open3d) (3.4)\n",
      "Requirement already satisfied: urllib3<3,>=1.21.1 in c:\\users\\hp\\anaconda3\\lib\\site-packages (from requests->dash>=2.6.0->open3d) (1.26.16)\n",
      "Requirement already satisfied: certifi>=2017.4.17 in c:\\users\\hp\\anaconda3\\lib\\site-packages (from requests->dash>=2.6.0->open3d) (2023.7.22)\n",
      "Requirement already satisfied: six>=1.7.0 in c:\\users\\hp\\anaconda3\\lib\\site-packages (from retrying->dash>=2.6.0->open3d) (1.16.0)\n",
      "Requirement already satisfied: parso<0.9.0,>=0.8.0 in c:\\users\\hp\\anaconda3\\lib\\site-packages (from jedi>=0.16->ipython>=6.1.0->ipywidgets>=8.0.4->open3d) (0.8.3)\n",
      "Requirement already satisfied: entrypoints in c:\\users\\hp\\anaconda3\\lib\\site-packages (from jupyter-client>=6.1.12->ipykernel>=4.5.1->ipywidgets>=8.0.4->open3d) (0.4)\n",
      "Requirement already satisfied: python-dateutil>=2.8.2 in c:\\users\\hp\\anaconda3\\lib\\site-packages (from jupyter-client>=6.1.12->ipykernel>=4.5.1->ipywidgets>=8.0.4->open3d) (2.8.2)\n",
      "Requirement already satisfied: wcwidth in c:\\users\\hp\\anaconda3\\lib\\site-packages (from prompt-toolkit!=3.0.37,<3.1.0,>=3.0.30->ipython>=6.1.0->ipywidgets>=8.0.4->open3d) (0.2.5)\n",
      "Requirement already satisfied: executing in c:\\users\\hp\\anaconda3\\lib\\site-packages (from stack-data->ipython>=6.1.0->ipywidgets>=8.0.4->open3d) (0.8.3)\n",
      "Requirement already satisfied: asttokens in c:\\users\\hp\\anaconda3\\lib\\site-packages (from stack-data->ipython>=6.1.0->ipywidgets>=8.0.4->open3d) (2.0.5)\n",
      "Requirement already satisfied: pure-eval in c:\\users\\hp\\anaconda3\\lib\\site-packages (from stack-data->ipython>=6.1.0->ipywidgets>=8.0.4->open3d) (0.2.2)\n",
      "Downloading open3d-0.18.0-cp311-cp311-win_amd64.whl (62.9 MB)\n",
      "   ---------------------------------------- 0.0/62.9 MB ? eta -:--:--\n",
      "   ---------------------------------------- 0.0/62.9 MB ? eta -:--:--\n",
      "   ---------------------------------------- 0.0/62.9 MB ? eta -:--:--\n",
      "   ---------------------------------------- 0.0/62.9 MB 330.3 kB/s eta 0:03:11\n",
      "   ---------------------------------------- 0.1/62.9 MB 469.7 kB/s eta 0:02:14\n",
      "   ---------------------------------------- 0.2/62.9 MB 1.1 MB/s eta 0:00:56\n",
      "   ---------------------------------------- 0.4/62.9 MB 1.9 MB/s eta 0:00:34\n",
      "   ---------------------------------------- 0.5/62.9 MB 2.0 MB/s eta 0:00:32\n",
      "   ---------------------------------------- 0.7/62.9 MB 2.5 MB/s eta 0:00:26\n",
      "    --------------------------------------- 1.0/62.9 MB 2.8 MB/s eta 0:00:22\n",
      "    --------------------------------------- 1.2/62.9 MB 3.0 MB/s eta 0:00:21\n",
      "    --------------------------------------- 1.5/62.9 MB 3.3 MB/s eta 0:00:19\n",
      "   - -------------------------------------- 1.7/62.9 MB 3.4 MB/s eta 0:00:19\n",
      "   - -------------------------------------- 1.9/62.9 MB 3.5 MB/s eta 0:00:18\n",
      "   - -------------------------------------- 2.2/62.9 MB 3.6 MB/s eta 0:00:17\n",
      "   - -------------------------------------- 2.5/62.9 MB 3.9 MB/s eta 0:00:16\n",
      "   - -------------------------------------- 2.9/62.9 MB 4.2 MB/s eta 0:00:15\n",
      "   -- ------------------------------------- 3.2/62.9 MB 4.3 MB/s eta 0:00:14\n",
      "   -- ------------------------------------- 3.6/62.9 MB 4.5 MB/s eta 0:00:14\n",
      "   -- ------------------------------------- 3.8/62.9 MB 4.6 MB/s eta 0:00:13\n",
      "   -- ------------------------------------- 4.0/62.9 MB 4.7 MB/s eta 0:00:13\n",
      "   -- ------------------------------------- 4.3/62.9 MB 4.7 MB/s eta 0:00:13\n",
      "   --- ------------------------------------ 4.8/62.9 MB 5.0 MB/s eta 0:00:12\n",
      "   --- ------------------------------------ 5.3/62.9 MB 5.2 MB/s eta 0:00:12\n",
      "   --- ------------------------------------ 5.9/62.9 MB 5.5 MB/s eta 0:00:11\n",
      "   ---- ----------------------------------- 6.3/62.9 MB 5.6 MB/s eta 0:00:11\n",
      "   ---- ----------------------------------- 6.8/62.9 MB 5.7 MB/s eta 0:00:10\n",
      "   ---- ----------------------------------- 7.2/62.9 MB 5.8 MB/s eta 0:00:10\n",
      "   ---- ----------------------------------- 7.6/62.9 MB 5.9 MB/s eta 0:00:10\n",
      "   ----- ---------------------------------- 8.0/62.9 MB 6.0 MB/s eta 0:00:10\n",
      "   ----- ---------------------------------- 8.3/62.9 MB 6.0 MB/s eta 0:00:10\n",
      "   ----- ---------------------------------- 8.7/62.9 MB 6.1 MB/s eta 0:00:09\n",
      "   ----- ---------------------------------- 9.2/62.9 MB 6.2 MB/s eta 0:00:09\n",
      "   ----- ---------------------------------- 9.4/62.9 MB 6.3 MB/s eta 0:00:09\n",
      "   ----- ---------------------------------- 9.4/62.9 MB 6.3 MB/s eta 0:00:09\n",
      "   ----- ---------------------------------- 9.4/62.9 MB 6.3 MB/s eta 0:00:09\n",
      "   ------ --------------------------------- 9.5/62.9 MB 5.7 MB/s eta 0:00:10\n",
      "   ------ --------------------------------- 9.9/62.9 MB 5.8 MB/s eta 0:00:10\n",
      "   ------ --------------------------------- 10.4/62.9 MB 6.4 MB/s eta 0:00:09\n",
      "   ------ --------------------------------- 10.9/62.9 MB 6.8 MB/s eta 0:00:08\n",
      "   ------- -------------------------------- 11.5/62.9 MB 7.1 MB/s eta 0:00:08\n",
      "   ------- -------------------------------- 12.2/62.9 MB 7.7 MB/s eta 0:00:07\n",
      "   -------- ------------------------------- 13.0/62.9 MB 8.1 MB/s eta 0:00:07\n",
      "   -------- ------------------------------- 13.6/62.9 MB 8.4 MB/s eta 0:00:06\n",
      "   -------- ------------------------------- 13.6/62.9 MB 8.4 MB/s eta 0:00:06\n",
      "   -------- ------------------------------- 13.6/62.9 MB 8.4 MB/s eta 0:00:06\n",
      "   -------- ------------------------------- 13.6/62.9 MB 8.4 MB/s eta 0:00:06\n",
      "   -------- ------------------------------- 13.6/62.9 MB 8.4 MB/s eta 0:00:06\n",
      "   -------- ------------------------------- 13.8/62.9 MB 7.1 MB/s eta 0:00:07\n",
      "   --------- ------------------------------ 14.5/62.9 MB 7.6 MB/s eta 0:00:07\n",
      "   --------- ------------------------------ 14.7/62.9 MB 7.6 MB/s eta 0:00:07\n",
      "   --------- ------------------------------ 14.7/62.9 MB 7.6 MB/s eta 0:00:07\n",
      "   --------- ------------------------------ 14.7/62.9 MB 7.6 MB/s eta 0:00:07\n",
      "   --------- ------------------------------ 14.7/62.9 MB 7.6 MB/s eta 0:00:07\n",
      "   --------- ------------------------------ 14.7/62.9 MB 7.6 MB/s eta 0:00:07\n",
      "   --------- ------------------------------ 15.3/62.9 MB 6.6 MB/s eta 0:00:08\n",
      "   ---------- ----------------------------- 16.1/62.9 MB 6.7 MB/s eta 0:00:07\n",
      "   ---------- ----------------------------- 17.0/62.9 MB 7.0 MB/s eta 0:00:07\n",
      "   ----------- ---------------------------- 17.9/62.9 MB 7.3 MB/s eta 0:00:07\n",
      "   ----------- ---------------------------- 18.5/62.9 MB 7.4 MB/s eta 0:00:06\n",
      "   ------------ --------------------------- 19.2/62.9 MB 7.6 MB/s eta 0:00:06\n",
      "   ------------ --------------------------- 20.0/62.9 MB 9.0 MB/s eta 0:00:05\n",
      "   ------------- -------------------------- 20.7/62.9 MB 9.2 MB/s eta 0:00:05\n",
      "   ------------- -------------------------- 21.4/62.9 MB 9.2 MB/s eta 0:00:05\n",
      "   -------------- ------------------------- 22.2/62.9 MB 9.4 MB/s eta 0:00:05\n",
      "   -------------- ------------------------- 23.0/62.9 MB 9.4 MB/s eta 0:00:05\n",
      "   --------------- ------------------------ 23.7/62.9 MB 9.4 MB/s eta 0:00:05\n",
      "   --------------- ------------------------ 24.4/62.9 MB 11.7 MB/s eta 0:00:04\n",
      "   --------------- ------------------------ 24.7/62.9 MB 11.3 MB/s eta 0:00:04\n",
      "   ---------------- ----------------------- 25.6/62.9 MB 15.6 MB/s eta 0:00:03\n",
      "   ---------------- ----------------------- 26.2/62.9 MB 15.6 MB/s eta 0:00:03\n",
      "   ---------------- ----------------------- 26.2/62.9 MB 15.6 MB/s eta 0:00:03\n",
      "   ---------------- ----------------------- 26.2/62.9 MB 15.6 MB/s eta 0:00:03\n",
      "   ---------------- ----------------------- 26.2/62.9 MB 15.6 MB/s eta 0:00:03\n",
      "   ---------------- ----------------------- 26.2/62.9 MB 15.6 MB/s eta 0:00:03\n",
      "   ---------------- ----------------------- 26.2/62.9 MB 15.6 MB/s eta 0:00:03\n",
      "   ---------------- ----------------------- 26.2/62.9 MB 15.6 MB/s eta 0:00:03\n",
      "   ----------------- ---------------------- 26.8/62.9 MB 10.6 MB/s eta 0:00:04\n",
      "   ----------------- ---------------------- 27.6/62.9 MB 10.6 MB/s eta 0:00:04\n",
      "   ----------------- ---------------------- 28.3/62.9 MB 10.4 MB/s eta 0:00:04\n",
      "   ------------------ --------------------- 28.9/62.9 MB 10.4 MB/s eta 0:00:04\n",
      "   ------------------ --------------------- 29.4/62.9 MB 10.2 MB/s eta 0:00:04\n",
      "   ------------------ --------------------- 29.4/62.9 MB 10.2 MB/s eta 0:00:04\n",
      "   ------------------ --------------------- 29.4/62.9 MB 10.2 MB/s eta 0:00:04\n",
      "   ------------------ --------------------- 29.5/62.9 MB 9.1 MB/s eta 0:00:04\n",
      "   ------------------- -------------------- 29.9/62.9 MB 8.8 MB/s eta 0:00:04\n",
      "   ------------------- -------------------- 30.3/62.9 MB 8.7 MB/s eta 0:00:04\n",
      "   ------------------- -------------------- 30.6/62.9 MB 8.5 MB/s eta 0:00:04\n",
      "   ------------------- -------------------- 31.0/62.9 MB 8.4 MB/s eta 0:00:04\n",
      "   -------------------- ------------------- 31.6/62.9 MB 8.3 MB/s eta 0:00:04\n",
      "   -------------------- ------------------- 32.3/62.9 MB 8.3 MB/s eta 0:00:04\n",
      "   -------------------- ------------------- 32.7/62.9 MB 8.1 MB/s eta 0:00:04\n",
      "   --------------------- ------------------ 33.3/62.9 MB 8.1 MB/s eta 0:00:04\n",
      "   --------------------- ------------------ 34.1/62.9 MB 8.1 MB/s eta 0:00:04\n",
      "   --------------------- ------------------ 34.6/62.9 MB 8.2 MB/s eta 0:00:04\n",
      "   --------------------- ------------------ 34.6/62.9 MB 8.2 MB/s eta 0:00:04\n",
      "   --------------------- ------------------ 34.6/62.9 MB 8.2 MB/s eta 0:00:04\n",
      "   --------------------- ------------------ 34.6/62.9 MB 8.2 MB/s eta 0:00:04\n",
      "   --------------------- ------------------ 34.6/62.9 MB 8.2 MB/s eta 0:00:04\n",
      "   ---------------------- ----------------- 35.2/62.9 MB 7.1 MB/s eta 0:00:04\n",
      "   ---------------------- ----------------- 36.0/62.9 MB 7.0 MB/s eta 0:00:04\n",
      "   ----------------------- ---------------- 36.7/62.9 MB 9.0 MB/s eta 0:00:03\n",
      "   ----------------------- ---------------- 37.4/62.9 MB 8.8 MB/s eta 0:00:03\n",
      "   ------------------------ --------------- 38.1/62.9 MB 8.8 MB/s eta 0:00:03\n",
      "   ------------------------ --------------- 38.6/62.9 MB 8.8 MB/s eta 0:00:03\n",
      "   ------------------------ --------------- 38.6/62.9 MB 8.8 MB/s eta 0:00:03\n",
      "   ------------------------- -------------- 39.4/62.9 MB 8.6 MB/s eta 0:00:03\n",
      "   ------------------------- -------------- 40.0/62.9 MB 9.8 MB/s eta 0:00:03\n",
      "   ------------------------- -------------- 40.4/62.9 MB 9.8 MB/s eta 0:00:03\n",
      "   -------------------------- ------------- 41.0/62.9 MB 10.1 MB/s eta 0:00:03\n",
      "   -------------------------- ------------- 41.6/62.9 MB 10.2 MB/s eta 0:00:03\n",
      "   -------------------------- ------------- 42.3/62.9 MB 10.2 MB/s eta 0:00:03\n",
      "   --------------------------- ------------ 42.8/62.9 MB 10.6 MB/s eta 0:00:02\n",
      "   --------------------------- ------------ 43.7/62.9 MB 10.7 MB/s eta 0:00:02\n",
      "   ---------------------------- ----------- 44.1/62.9 MB 10.2 MB/s eta 0:00:02\n",
      "   ---------------------------- ----------- 44.9/62.9 MB 13.1 MB/s eta 0:00:02\n",
      "   ---------------------------- ----------- 45.4/62.9 MB 12.8 MB/s eta 0:00:02\n",
      "   ----------------------------- ---------- 46.1/62.9 MB 12.8 MB/s eta 0:00:02\n",
      "   ----------------------------- ---------- 46.1/62.9 MB 12.6 MB/s eta 0:00:02\n",
      "   ----------------------------- ---------- 46.1/62.9 MB 12.6 MB/s eta 0:00:02\n",
      "   ----------------------------- ---------- 46.5/62.9 MB 11.3 MB/s eta 0:00:02\n",
      "   ------------------------------ --------- 47.2/62.9 MB 11.1 MB/s eta 0:00:02\n",
      "   ------------------------------ --------- 47.7/62.9 MB 11.1 MB/s eta 0:00:02\n",
      "   ------------------------------ --------- 48.1/62.9 MB 10.7 MB/s eta 0:00:02\n",
      "   ------------------------------ --------- 48.7/62.9 MB 10.6 MB/s eta 0:00:02\n",
      "   ------------------------------- -------- 49.2/62.9 MB 11.5 MB/s eta 0:00:02\n",
      "   ------------------------------- -------- 49.8/62.9 MB 11.1 MB/s eta 0:00:02\n",
      "   ------------------------------- -------- 50.2/62.9 MB 10.9 MB/s eta 0:00:02\n",
      "   -------------------------------- ------- 50.7/62.9 MB 11.1 MB/s eta 0:00:02\n",
      "   -------------------------------- ------- 51.2/62.9 MB 10.9 MB/s eta 0:00:02\n",
      "   -------------------------------- ------- 51.9/62.9 MB 11.1 MB/s eta 0:00:01\n",
      "   --------------------------------- ------ 52.4/62.9 MB 10.7 MB/s eta 0:00:01\n",
      "   --------------------------------- ------ 52.8/62.9 MB 10.6 MB/s eta 0:00:01\n",
      "   --------------------------------- ------ 53.4/62.9 MB 10.6 MB/s eta 0:00:01\n",
      "   ---------------------------------- ----- 54.0/62.9 MB 10.6 MB/s eta 0:00:01\n",
      "   ---------------------------------- ----- 54.8/62.9 MB 10.7 MB/s eta 0:00:01\n",
      "   ----------------------------------- ---- 55.5/62.9 MB 10.9 MB/s eta 0:00:01\n",
      "   ----------------------------------- ---- 56.1/62.9 MB 10.7 MB/s eta 0:00:01\n",
      "   ------------------------------------ --- 56.9/62.9 MB 12.4 MB/s eta 0:00:01\n",
      "   ------------------------------------ --- 57.4/62.9 MB 12.1 MB/s eta 0:00:01\n",
      "   ------------------------------------ --- 58.0/62.9 MB 12.1 MB/s eta 0:00:01\n",
      "   ------------------------------------- -- 58.7/62.9 MB 12.8 MB/s eta 0:00:01\n",
      "   ------------------------------------- -- 58.7/62.9 MB 12.6 MB/s eta 0:00:01\n",
      "   ------------------------------------- -- 58.8/62.9 MB 11.3 MB/s eta 0:00:01\n",
      "   ------------------------------------- -- 59.3/62.9 MB 11.3 MB/s eta 0:00:01\n",
      "   -------------------------------------- - 60.0/62.9 MB 11.5 MB/s eta 0:00:01\n",
      "   -------------------------------------- - 60.7/62.9 MB 11.9 MB/s eta 0:00:01\n",
      "   ---------------------------------------  61.4/62.9 MB 12.1 MB/s eta 0:00:01\n",
      "   ---------------------------------------  62.0/62.9 MB 11.9 MB/s eta 0:00:01\n",
      "   ---------------------------------------  62.6/62.9 MB 12.1 MB/s eta 0:00:01\n",
      "   ---------------------------------------  62.9/62.9 MB 12.4 MB/s eta 0:00:01\n",
      "   ---------------------------------------  62.9/62.9 MB 12.4 MB/s eta 0:00:01\n",
      "   ---------------------------------------  62.9/62.9 MB 12.4 MB/s eta 0:00:01\n",
      "   ---------------------------------------  62.9/62.9 MB 12.4 MB/s eta 0:00:01\n",
      "   ---------------------------------------  62.9/62.9 MB 12.4 MB/s eta 0:00:01\n",
      "   ---------------------------------------  62.9/62.9 MB 12.4 MB/s eta 0:00:01\n",
      "   ---------------------------------------  62.9/62.9 MB 12.4 MB/s eta 0:00:01\n",
      "   ---------------------------------------  62.9/62.9 MB 12.4 MB/s eta 0:00:01\n",
      "   ---------------------------------------  62.9/62.9 MB 12.4 MB/s eta 0:00:01\n",
      "   ---------------------------------------  62.9/62.9 MB 12.4 MB/s eta 0:00:01\n",
      "   ---------------------------------------  62.9/62.9 MB 12.4 MB/s eta 0:00:01\n",
      "   ---------------------------------------  62.9/62.9 MB 12.4 MB/s eta 0:00:01\n",
      "   ---------------------------------------  62.9/62.9 MB 12.4 MB/s eta 0:00:01\n",
      "   ---------------------------------------  62.9/62.9 MB 12.4 MB/s eta 0:00:01\n",
      "   ---------------------------------------  62.9/62.9 MB 12.4 MB/s eta 0:00:01\n",
      "   ---------------------------------------  62.9/62.9 MB 12.4 MB/s eta 0:00:01\n",
      "   ---------------------------------------  62.9/62.9 MB 12.4 MB/s eta 0:00:01\n",
      "   ---------------------------------------  62.9/62.9 MB 12.4 MB/s eta 0:00:01\n",
      "   ---------------------------------------  62.9/62.9 MB 12.4 MB/s eta 0:00:01\n",
      "   ---------------------------------------  62.9/62.9 MB 12.4 MB/s eta 0:00:01\n",
      "   ---------------------------------------  62.9/62.9 MB 12.4 MB/s eta 0:00:01\n",
      "   ---------------------------------------  62.9/62.9 MB 12.4 MB/s eta 0:00:01\n",
      "   ---------------------------------------  62.9/62.9 MB 12.4 MB/s eta 0:00:01\n",
      "   ---------------------------------------  62.9/62.9 MB 12.4 MB/s eta 0:00:01\n",
      "   ---------------------------------------- 62.9/62.9 MB 5.1 MB/s eta 0:00:00\n",
      "Using cached dash-2.14.2-py3-none-any.whl (10.2 MB)\n",
      "Using cached ConfigArgParse-1.7-py3-none-any.whl (25 kB)\n",
      "Using cached ansi2html-1.9.1-py3-none-any.whl (17 kB)\n",
      "Installing collected packages: dash-table, dash-html-components, dash-core-components, retrying, configargparse, ansi2html, dash, open3d\n",
      "Successfully installed ansi2html-1.9.1 configargparse-1.7 dash-2.14.2 dash-core-components-2.0.0 dash-html-components-2.0.0 dash-table-5.0.0 open3d-0.18.0 retrying-1.3.4\n"
     ]
    }
   ],
   "source": [
    "!pip install open3d"
   ]
  },
  {
   "cell_type": "code",
   "execution_count": 2,
   "id": "2b1e1cd5",
   "metadata": {},
   "outputs": [
    {
     "name": "stdout",
     "output_type": "stream",
     "text": [
      "Jupyter environment detected. Enabling Open3D WebVisualizer.\n",
      "[Open3D INFO] WebRTC GUI backend enabled.\n",
      "[Open3D INFO] WebRTCWindowSystem: HTTP handshake server disabled.\n",
      "0.18.0\n"
     ]
    }
   ],
   "source": [
    "import open3d as o3d\n",
    "print(o3d.__version__)\n",
    "import numpy as np"
   ]
  },
  {
   "cell_type": "code",
   "execution_count": 3,
   "id": "c2358626",
   "metadata": {},
   "outputs": [
    {
     "name": "stdout",
     "output_type": "stream",
     "text": [
      "Python 3.11.5\n"
     ]
    }
   ],
   "source": [
    "!python --version"
   ]
  },
  {
   "cell_type": "code",
   "execution_count": 4,
   "id": "c0b561af",
   "metadata": {},
   "outputs": [
    {
     "name": "stdout",
     "output_type": "stream",
     "text": [
      "Load a ply point cloud, print it, and render it\n",
      "PointCloud with 196133 points.\n",
      "[[0.65234375 0.84686458 2.37890625]\n",
      " [0.65234375 0.83984375 2.38430572]\n",
      " [0.66737998 0.83984375 2.37890625]\n",
      " ...\n",
      " [2.00839925 2.39453125 1.88671875]\n",
      " [2.00390625 2.39488506 1.88671875]\n",
      " [2.00390625 2.39453125 1.88793314]]\n",
      "[Open3D WARNING] GLFW Error: WGL: Failed to make context current: The handle is invalid. \n",
      "[Open3D WARNING] GLFW Error: WGL: Failed to make context current: The requested transformation operation is not supported. \n",
      "[Open3D WARNING] GLFW Error: WGL: Failed to make context current: The handle is invalid. \n",
      "[Open3D WARNING] GLFW Error: WGL: Failed to make context current: The requested transformation operation is not supported. \n",
      "[Open3D WARNING] GLFW Error: WGL: Failed to make context current: The requested transformation operation is not supported. \n",
      "[Open3D WARNING] GLFW Error: WGL: Failed to make context current: The requested transformation operation is not supported. \n",
      "[Open3D WARNING] GLFW Error: WGL: Failed to make context current: The handle is invalid. \n",
      "[Open3D WARNING] GLFW Error: WGL: Failed to make context current: The requested transformation operation is not supported. \n",
      "[Open3D WARNING] GLFW Error: WGL: Failed to make context current: The requested transformation operation is not supported. \n",
      "[Open3D WARNING] GLFW Error: WGL: Failed to make context current: The requested transformation operation is not supported. \n"
     ]
    }
   ],
   "source": [
    "print(\"Load a ply point cloud, print it, and render it\")\n",
    "ply_point_cloud = o3d.data.PLYPointCloud()\n",
    "pcd = o3d.io.read_point_cloud(ply_point_cloud.path)\n",
    "print(pcd)\n",
    "print(np.asarray(pcd.points))\n",
    "o3d.visualization.draw_geometries([pcd],\n",
    "                                  zoom=0.3412,\n",
    "                                  front=[0.4257, -0.2125, -0.8795],\n",
    "                                  lookat=[2.6172, 2.0475, 1.532],\n",
    "                                  up=[-0.0694, -0.9768, 0.2024])"
   ]
  },
  {
   "cell_type": "code",
   "execution_count": 5,
   "id": "ddf1d97b-c1e1-4dbe-910d-4ebc06260f61",
   "metadata": {
    "tags": []
   },
   "outputs": [
    {
     "name": "stdout",
     "output_type": "stream",
     "text": [
      "Downsample the point cloud with a voxel of 0.05\n",
      "[Open3D WARNING] GLFW Error: WGL: Failed to make context current: The requested transformation operation is not supported. \n",
      "[Open3D WARNING] GLFW Error: WGL: Failed to make context current: The requested transformation operation is not supported. \n",
      "[Open3D WARNING] GLFW Error: WGL: Failed to make context current: The requested transformation operation is not supported. \n",
      "[Open3D WARNING] GLFW Error: WGL: Failed to make context current: The requested transformation operation is not supported. \n",
      "[Open3D WARNING] GLFW Error: WGL: Failed to make context current: The handle is invalid. \n"
     ]
    }
   ],
   "source": [
    "print(\"Downsample the point cloud with a voxel of 0.05\")\n",
    "downpcd = pcd.voxel_down_sample(voxel_size=0.05)\n",
    "o3d.visualization.draw_geometries([downpcd],\n",
    "                                  zoom=0.3412,\n",
    "                                  front=[0.4257, -0.2125, -0.8795],\n",
    "                                  lookat=[2.6172, 2.0475, 1.532],\n",
    "                                  up=[-0.0694, -0.9768, 0.2024])"
   ]
  },
  {
   "cell_type": "code",
   "execution_count": 6,
   "id": "ad700d21-4306-47cb-94c0-c3b3a69eaaeb",
   "metadata": {
    "tags": []
   },
   "outputs": [
    {
     "name": "stdout",
     "output_type": "stream",
     "text": [
      "Recompute the normal of the downsampled point cloud\n",
      "[Open3D WARNING] GLFW Error: WGL: Failed to make context current: The handle is invalid. \n",
      "[Open3D WARNING] GLFW Error: WGL: Failed to make context current: The requested transformation operation is not supported. \n",
      "[Open3D WARNING] GLFW Error: WGL: Failed to make context current: The handle is invalid. \n",
      "[Open3D WARNING] GLFW Error: WGL: Failed to make context current: The handle is invalid. \n",
      "[Open3D WARNING] GLFW Error: WGL: Failed to make context current: The requested transformation operation is not supported. \n",
      "[Open3D WARNING] GLFW Error: WGL: Failed to make context current: The handle is invalid. \n",
      "[Open3D WARNING] GLFW Error: WGL: Failed to make context current: The handle is invalid. \n",
      "[Open3D WARNING] GLFW Error: WGL: Failed to make context current: The handle is invalid. \n",
      "[Open3D WARNING] GLFW Error: WGL: Failed to make context current: The handle is invalid. \n",
      "[Open3D WARNING] GLFW Error: WGL: Failed to make context current: The handle is invalid. \n",
      "[Open3D WARNING] GLFW Error: WGL: Failed to make context current: The handle is invalid. \n"
     ]
    }
   ],
   "source": [
    "print(\"Recompute the normal of the downsampled point cloud\")\n",
    "downpcd.estimate_normals(\n",
    "    search_param=o3d.geometry.KDTreeSearchParamHybrid(radius=0.1, max_nn=30))\n",
    "o3d.visualization.draw_geometries([downpcd],\n",
    "                                  zoom=0.3412,\n",
    "                                  front=[0.4257, -0.2125, -0.8795],\n",
    "                                  lookat=[2.6172, 2.0475, 1.532],\n",
    "                                  up=[-0.0694, -0.9768, 0.2024],\n",
    "                                  point_show_normal=True)"
   ]
  },
  {
   "cell_type": "code",
   "execution_count": 7,
   "id": "6bafbbd3-34f6-48c8-b0e9-3bc353d31a02",
   "metadata": {
    "tags": []
   },
   "outputs": [
    {
     "name": "stdout",
     "output_type": "stream",
     "text": [
      "Load a polygon volume and use it to crop the original point cloud\n",
      "[Open3D WARNING] GLFW Error: WGL: Failed to make context current: The handle is invalid. \n",
      "[Open3D WARNING] GLFW Error: WGL: Failed to make context current: The requested transformation operation is not supported. \n",
      "[Open3D WARNING] GLFW Error: WGL: Failed to make context current: The requested transformation operation is not supported. \n",
      "[Open3D WARNING] GLFW Error: WGL: Failed to make context current: The handle is invalid. \n",
      "[Open3D WARNING] GLFW Error: WGL: Failed to make context current: The requested transformation operation is not supported. \n",
      "[Open3D WARNING] GLFW Error: WGL: Failed to make context current: The handle is invalid. \n",
      "[Open3D WARNING] GLFW Error: WGL: Failed to make context current: The requested transformation operation is not supported. \n"
     ]
    }
   ],
   "source": [
    "print(\"Load a polygon volume and use it to crop the original point cloud\")\n",
    "demo_crop_data = o3d.data.DemoCropPointCloud()\n",
    "pcd = o3d.io.read_point_cloud(demo_crop_data.point_cloud_path)\n",
    "vol = o3d.visualization.read_selection_polygon_volume(demo_crop_data.cropped_json_path)\n",
    "chair = vol.crop_point_cloud(pcd)\n",
    "o3d.visualization.draw_geometries([chair],\n",
    "                                  zoom=0.7,\n",
    "                                  front=[0.5439, -0.2333, -0.8060],\n",
    "                                  lookat=[2.4615, 2.1331, 1.338],\n",
    "                                  up=[-0.1781, -0.9708, 0.1608])"
   ]
  },
  {
   "cell_type": "code",
   "execution_count": 8,
   "id": "26145f51-01f1-44c9-9b6a-70c3f6d623d9",
   "metadata": {
    "tags": []
   },
   "outputs": [
    {
     "name": "stdout",
     "output_type": "stream",
     "text": [
      "Paint chair\n",
      "[Open3D WARNING] GLFW Error: WGL: Failed to make context current: The requested transformation operation is not supported. \n",
      "[Open3D WARNING] GLFW Error: WGL: Failed to make context current: The requested transformation operation is not supported. \n"
     ]
    }
   ],
   "source": [
    "print(\"Paint chair\")\n",
    "chair.paint_uniform_color([1, 0, 1]) #r-g-b -> 1 0 1 this color is purple\n",
    "o3d.visualization.draw_geometries([chair],\n",
    "                                  zoom=0.7,\n",
    "                                  front=[0.5439, -0.2333, -0.8060],\n",
    "                                  lookat=[2.4615, 2.1331, 1.338],\n",
    "                                  up=[-0.1781, -0.9708, 0.1608])"
   ]
  },
  {
   "cell_type": "code",
   "execution_count": 9,
   "id": "629c721d-6ece-4762-a919-cc60265f0560",
   "metadata": {},
   "outputs": [
    {
     "name": "stdout",
     "output_type": "stream",
     "text": [
      "Load a ply point cloud, print it, and render it\n",
      "PointCloud with 8076963 points.\n",
      "[[-1033.32434082  1316.9284668  -1062.46020508]\n",
      " [-1022.46795654  1315.88684082 -1062.16821289]\n",
      " [-1011.65161133  1314.84265137 -1061.86083984]\n",
      " ...\n",
      " [15163.73046875  4870.33691406  -860.22692871]\n",
      " [15154.33007812  4861.89550781  -859.56201172]\n",
      " [15145.42675781  4854.18017578  -859.59936523]]\n",
      "[Open3D WARNING] GLFW Error: WGL: Failed to make context current: The handle is invalid. \n"
     ]
    }
   ],
   "source": [
    "print(\"Load a ply point cloud, print it, and render it\")\n",
    "ply_point_cloud = o3d.data.PLYPointCloud()\n",
    "pcd = o3d.io.read_point_cloud(\"Dataset/iphone7.ply\")\n",
    "print(pcd)\n",
    "print(np.asarray(pcd.points))\n",
    "o3d.visualization.draw_geometries([pcd],\n",
    "                                  zoom=0.3412,\n",
    "                                  front=[0.4257, -0.2125, -0.8795],\n",
    "                                  lookat=[2.6172, 2.0475, 1.532],\n",
    "                                  up=[-0.0694, -0.9768, 0.2024])"
   ]
  },
  {
   "cell_type": "code",
   "execution_count": 10,
   "id": "5078eb89-fe98-49dc-a28e-2aca317701c3",
   "metadata": {
    "tags": []
   },
   "outputs": [],
   "source": [
    "downpcd = pcd.voxel_down_sample(voxel_size=0.05)\n",
    "o3d.visualization.draw_geometries([downpcd],\n",
    "                                  zoom=0.3412,\n",
    "                                  front=[0.4257, -0.2125, -0.8795],\n",
    "                                  lookat=[2.6172, 2.0475, 1.532],\n",
    "                                  up=[-0.0694, -0.9768, 0.2024])"
   ]
  },
  {
   "cell_type": "code",
   "execution_count": 11,
   "id": "2d685051-d4ea-4e9a-9364-277f84e5a30d",
   "metadata": {
    "tags": []
   },
   "outputs": [
    {
     "name": "stdout",
     "output_type": "stream",
     "text": [
      "PointCloud with 14640197 points.\n",
      "[[  82.07930756 -147.18885803  -78.15903473]\n",
      " [  97.60070801  149.98822021  -53.49351883]\n",
      " [  70.49710846 -229.24028015  -78.54177856]\n",
      " ...\n",
      " [  26.64775658  -36.49408722  -89.59648132]\n",
      " [ -88.472229     49.91682816  -75.39753723]\n",
      " [ -23.17474937  335.25888062 -102.58750916]]\n"
     ]
    }
   ],
   "source": [
    "ply_point_cloud = o3d.data.PLYPointCloud()\n",
    "pcd = o3d.io.read_point_cloud(\"Dataset/kota_circuit2.ply\")\n",
    "print(pcd)\n",
    "print(np.asarray(pcd.points))\n",
    "o3d.visualization.draw_geometries([pcd],\n",
    "                                  zoom=0.3412,\n",
    "                                  front=[0.4257, -0.2125, -0.8795],\n",
    "                                  lookat=[2.6172, 2.0475, 1.532],\n",
    "                                  up=[-0.0694, -0.9768, 0.2024])"
   ]
  },
  {
   "cell_type": "code",
   "execution_count": 12,
   "id": "78a9df5b-54ce-4dad-9e13-3ea39a933411",
   "metadata": {
    "tags": []
   },
   "outputs": [
    {
     "name": "stdout",
     "output_type": "stream",
     "text": [
      "[Open3D WARNING] [ViewControl] SetViewPoint() failed because window height and width are not set.\n",
      "PointCloud with 14246787 points.\n"
     ]
    }
   ],
   "source": [
    "downpcd = pcd.voxel_down_sample(voxel_size=0.05)\n",
    "o3d.visualization.draw_geometries([downpcd],\n",
    "                                  zoom=0.3412,\n",
    "                                  front=[0.4257, -0.2125, -0.8795],\n",
    "                                  lookat=[2.6172, 2.0475, 1.532],\n",
    "                                  up=[-0.0694, -0.9768, 0.2024])\n",
    "print(downpcd)"
   ]
  },
  {
   "cell_type": "code",
   "execution_count": null,
   "id": "597b4629-2981-4874-9390-71df6a6e0d99",
   "metadata": {},
   "outputs": [],
   "source": []
  }
 ],
 "metadata": {
  "kernelspec": {
   "display_name": "Python 3 (ipykernel)",
   "language": "python",
   "name": "python3"
  },
  "language_info": {
   "codemirror_mode": {
    "name": "ipython",
    "version": 3
   },
   "file_extension": ".py",
   "mimetype": "text/x-python",
   "name": "python",
   "nbconvert_exporter": "python",
   "pygments_lexer": "ipython3",
   "version": "3.11.5"
  }
 },
 "nbformat": 4,
 "nbformat_minor": 5
}
