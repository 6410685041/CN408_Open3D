{
 "cells": [
  {
   "cell_type": "code",
   "execution_count": 31,
   "id": "03c4503f-3200-4835-86ae-4fec4e8d1e33",
   "metadata": {
    "tags": []
   },
   "outputs": [
    {
     "name": "stdout",
     "output_type": "stream",
     "text": [
      "Collecting polars\n",
      "  Obtaining dependency information for polars from https://files.pythonhosted.org/packages/19/9d/78a6d5f4961587f3f0776623122782ce0c902f82ba5917f42883e3fa08e4/polars-0.20.8-cp38-abi3-win_amd64.whl.metadata\n",
      "  Downloading polars-0.20.8-cp38-abi3-win_amd64.whl.metadata (15 kB)\n",
      "Downloading polars-0.20.8-cp38-abi3-win_amd64.whl (25.7 MB)\n",
      "   ---------------------------------------- 0.0/25.7 MB ? eta -:--:--\n",
      "   ---------------------------------------- 0.0/25.7 MB ? eta -:--:--\n",
      "   ---------------------------------------- 0.0/25.7 MB ? eta -:--:--\n",
      "   ---------------------------------------- 0.0/25.7 MB 495.5 kB/s eta 0:00:52\n",
      "   ---------------------------------------- 0.1/25.7 MB 1.2 MB/s eta 0:00:21\n",
      "    --------------------------------------- 0.5/25.7 MB 2.6 MB/s eta 0:00:10\n",
      "   - -------------------------------------- 0.8/25.7 MB 3.9 MB/s eta 0:00:07\n",
      "   - -------------------------------------- 1.0/25.7 MB 3.9 MB/s eta 0:00:07\n",
      "   -- ------------------------------------- 1.3/25.7 MB 4.2 MB/s eta 0:00:06\n",
      "   -- ------------------------------------- 1.8/25.7 MB 5.0 MB/s eta 0:00:05\n",
      "   --- ------------------------------------ 2.3/25.7 MB 5.7 MB/s eta 0:00:05\n",
      "   ---- ----------------------------------- 2.8/25.7 MB 6.1 MB/s eta 0:00:04\n",
      "   ----- ---------------------------------- 3.2/25.7 MB 6.5 MB/s eta 0:00:04\n",
      "   ------ --------------------------------- 3.9/25.7 MB 7.1 MB/s eta 0:00:04\n",
      "   ------ --------------------------------- 4.3/25.7 MB 7.2 MB/s eta 0:00:03\n",
      "   ------- -------------------------------- 4.9/25.7 MB 7.6 MB/s eta 0:00:03\n",
      "   -------- ------------------------------- 5.4/25.7 MB 7.9 MB/s eta 0:00:03\n",
      "   --------- ------------------------------ 6.1/25.7 MB 8.3 MB/s eta 0:00:03\n",
      "   ---------- ----------------------------- 6.7/25.7 MB 8.6 MB/s eta 0:00:03\n",
      "   ----------- ---------------------------- 7.5/25.7 MB 9.0 MB/s eta 0:00:03\n",
      "   ------------ --------------------------- 8.2/25.7 MB 9.3 MB/s eta 0:00:02\n",
      "   ------------- -------------------------- 8.9/25.7 MB 9.7 MB/s eta 0:00:02\n",
      "   --------------- ------------------------ 9.8/25.7 MB 10.2 MB/s eta 0:00:02\n",
      "   ---------------- ----------------------- 10.4/25.7 MB 11.5 MB/s eta 0:00:02\n",
      "   ----------------- ---------------------- 11.0/25.7 MB 11.9 MB/s eta 0:00:02\n",
      "   ------------------ --------------------- 11.8/25.7 MB 13.4 MB/s eta 0:00:02\n",
      "   ------------------- -------------------- 12.3/25.7 MB 13.4 MB/s eta 0:00:02\n",
      "   -------------------- ------------------- 12.9/25.7 MB 13.4 MB/s eta 0:00:01\n",
      "   -------------------- ------------------- 13.4/25.7 MB 13.6 MB/s eta 0:00:01\n",
      "   ---------------------- ----------------- 14.2/25.7 MB 14.2 MB/s eta 0:00:01\n",
      "   ----------------------- ---------------- 14.8/25.7 MB 14.2 MB/s eta 0:00:01\n",
      "   ------------------------ --------------- 15.5/25.7 MB 14.6 MB/s eta 0:00:01\n",
      "   ------------------------ --------------- 15.8/25.7 MB 13.9 MB/s eta 0:00:01\n",
      "   ------------------------- -------------- 16.5/25.7 MB 13.9 MB/s eta 0:00:01\n",
      "   -------------------------- ------------- 17.2/25.7 MB 13.9 MB/s eta 0:00:01\n",
      "   --------------------------- ------------ 17.6/25.7 MB 13.6 MB/s eta 0:00:01\n",
      "   ---------------------------- ----------- 18.5/25.7 MB 14.2 MB/s eta 0:00:01\n",
      "   ----------------------------- ---------- 19.1/25.7 MB 13.4 MB/s eta 0:00:01\n",
      "   ------------------------------- -------- 19.9/25.7 MB 13.4 MB/s eta 0:00:01\n",
      "   -------------------------------- ------- 20.7/25.7 MB 13.6 MB/s eta 0:00:01\n",
      "   --------------------------------- ------ 21.4/25.7 MB 13.6 MB/s eta 0:00:01\n",
      "   ---------------------------------- ----- 22.1/25.7 MB 13.6 MB/s eta 0:00:01\n",
      "   ----------------------------------- ---- 22.7/25.7 MB 14.2 MB/s eta 0:00:01\n",
      "   ------------------------------------ --- 23.2/25.7 MB 13.6 MB/s eta 0:00:01\n",
      "   ------------------------------------- -- 24.2/25.7 MB 13.9 MB/s eta 0:00:01\n",
      "   -------------------------------------- - 24.8/25.7 MB 13.6 MB/s eta 0:00:01\n",
      "   ---------------------------------------  25.7/25.7 MB 14.2 MB/s eta 0:00:01\n",
      "   ---------------------------------------  25.7/25.7 MB 14.2 MB/s eta 0:00:01\n",
      "   ---------------------------------------  25.7/25.7 MB 14.2 MB/s eta 0:00:01\n",
      "   ---------------------------------------  25.7/25.7 MB 14.2 MB/s eta 0:00:01\n",
      "   ---------------------------------------  25.7/25.7 MB 14.2 MB/s eta 0:00:01\n",
      "   ---------------------------------------  25.7/25.7 MB 14.2 MB/s eta 0:00:01\n",
      "   ---------------------------------------  25.7/25.7 MB 14.2 MB/s eta 0:00:01\n",
      "   ---------------------------------------  25.7/25.7 MB 14.2 MB/s eta 0:00:01\n",
      "   ---------------------------------------  25.7/25.7 MB 14.2 MB/s eta 0:00:01\n",
      "   ---------------------------------------  25.7/25.7 MB 14.2 MB/s eta 0:00:01\n",
      "   ---------------------------------------- 25.7/25.7 MB 8.6 MB/s eta 0:00:00\n",
      "Installing collected packages: polars\n",
      "Successfully installed polars-0.20.8\n"
     ]
    }
   ],
   "source": [
    "!pip install polars"
   ]
  },
  {
   "cell_type": "code",
   "execution_count": 3,
   "id": "61ecff48-11a7-46ea-aceb-efa53d600f92",
   "metadata": {
    "tags": []
   },
   "outputs": [
    {
     "name": "stdout",
     "output_type": "stream",
     "text": [
      "Jupyter environment detected. Enabling Open3D WebVisualizer.\n",
      "[Open3D INFO] WebRTC GUI backend enabled.\n",
      "[Open3D INFO] WebRTCWindowSystem: HTTP handshake server disabled.\n",
      "0.18.0\n"
     ]
    }
   ],
   "source": [
    "import open3d as o3d\n",
    "print(o3d.__version__)\n",
    "import numpy as np\n",
    "import pandas as pd\n",
    "import polars as pl"
   ]
  },
  {
   "cell_type": "code",
   "execution_count": 4,
   "id": "1a7acaf9-2d52-4233-a5e3-23beb7a717d5",
   "metadata": {
    "tags": []
   },
   "outputs": [
    {
     "name": "stdout",
     "output_type": "stream",
     "text": [
      "kota_circuit\n",
      "PointCloud with 14640197 points.\n",
      "[[  82.07930756 -147.18885803  -78.15903473]\n",
      " [  97.60070801  149.98822021  -53.49351883]\n",
      " [  70.49710846 -229.24028015  -78.54177856]\n",
      " ...\n",
      " [  26.64775658  -36.49408722  -89.59648132]\n",
      " [ -88.472229     49.91682816  -75.39753723]\n",
      " [ -23.17474937  335.25888062 -102.58750916]]\n"
     ]
    }
   ],
   "source": [
    "print(\"kota_circuit\")\n",
    "ply_point_cloud = o3d.data.PLYPointCloud()\n",
    "pcd = o3d.io.read_point_cloud(\"Dataset/kota_circuit2.ply\")\n",
    "print(pcd)\n",
    "print(np.asarray(pcd.points))"
   ]
  },
  {
   "cell_type": "code",
   "execution_count": 20,
   "id": "773fb890-ce7a-4f6b-af79-d32bb2461618",
   "metadata": {
    "tags": []
   },
   "outputs": [
    {
     "name": "stdout",
     "output_type": "stream",
     "text": [
      "render file\n"
     ]
    }
   ],
   "source": [
    "print(\"render file\")\n",
    "o3d.visualization.draw_geometries([pcd],\n",
    "                                  zoom=0.3412,\n",
    "                                  front=[0.4257, -0.2125, -0.8795],\n",
    "                                  lookat=[2.6172, 2.0475, 1.532],\n",
    "                                  up=[-0.0694, -0.9768, 0.2024])"
   ]
  },
  {
   "cell_type": "code",
   "execution_count": 21,
   "id": "626abbd9-1e2b-4296-bd89-fc12433af621",
   "metadata": {
    "tags": []
   },
   "outputs": [],
   "source": [
    "# for cropping area by manual -> cropped_kota_circuit\n",
    "# o3d.visualization.draw_geometries_with_editing([pcd])\n",
    "crop_pcd = o3d.io.read_point_cloud(\"Dataset/cropped_kota_circuit2.ply\")\n",
    "o3d.visualization.draw_geometries([crop_pcd])"
   ]
  },
  {
   "cell_type": "code",
   "execution_count": 6,
   "id": "68bbbf4d-fffb-4da7-9b45-732bbe540e09",
   "metadata": {
    "tags": []
   },
   "outputs": [
    {
     "name": "stdout",
     "output_type": "stream",
     "text": [
      "PointCloud with 69665 points.\n",
      "[[ 15.44811535 283.57678223 -94.7826004 ]\n",
      " [  4.93768883 299.45748901 -94.67481995]\n",
      " [ 22.11404228 298.99884033 -85.44134521]\n",
      " ...\n",
      " [ 16.59041595 281.490448   -94.74358368]\n",
      " [ 17.36798668 296.38348389 -94.73506165]\n",
      " [ 23.36079216 294.47653198 -86.0475769 ]]\n"
     ]
    }
   ],
   "source": [
    "print(crop_pcd)\n",
    "print(np.asarray(crop_pcd.points))"
   ]
  },
  {
   "cell_type": "code",
   "execution_count": 22,
   "id": "81ee3483-f767-42e8-8020-58f964eb9e8a",
   "metadata": {
    "tags": []
   },
   "outputs": [
    {
     "name": "stdout",
     "output_type": "stream",
     "text": [
      "Normal Vector\n"
     ]
    }
   ],
   "source": [
    "print(\"Normal Vector\")\n",
    "crop_pcd.estimate_normals(\n",
    "    search_param=o3d.geometry.KDTreeSearchParamHybrid(radius=0.1, max_nn=30))\n",
    "o3d.visualization.draw_geometries([crop_pcd],\n",
    "                                  point_show_normal=True)"
   ]
  },
  {
   "cell_type": "code",
   "execution_count": 8,
   "id": "08125063-210a-487f-9733-dca4a4afec7c",
   "metadata": {
    "tags": []
   },
   "outputs": [
    {
     "name": "stdout",
     "output_type": "stream",
     "text": [
      "point cloud: \n",
      " [[ 15.44811535 283.57678223 -94.7826004 ]\n",
      " [  4.93768883 299.45748901 -94.67481995]\n",
      " [ 22.11404228 298.99884033 -85.44134521]\n",
      " ...\n",
      " [ 16.59041595 281.490448   -94.74358368]\n",
      " [ 17.36798668 296.38348389 -94.73506165]\n",
      " [ 23.36079216 294.47653198 -86.0475769 ]]\n",
      "\n",
      "normal vector: \n",
      " [[-0.32016957  0.06167363 -0.94535063]\n",
      " [ 0.          0.          1.        ]\n",
      " [ 0.          0.          1.        ]\n",
      " ...\n",
      " [ 0.87666944  0.19223679  0.44101668]\n",
      " [ 0.          0.          1.        ]\n",
      " [ 0.03116634 -0.91377031 -0.40503393]]\n",
      "\n",
      "color point: \n",
      " [[0.90980392 0.90980392 0.92156863]\n",
      " [0.74509804 0.74509804 0.59215686]\n",
      " [0.30196078 0.35294118 0.21960784]\n",
      " ...\n",
      " [0.75294118 0.76862745 0.58039216]\n",
      " [0.66666667 0.65490196 0.49803922]\n",
      " [0.50980392 0.57647059 0.43137255]]\n"
     ]
    }
   ],
   "source": [
    "# Setting\n",
    "point_cloud = np.asarray(crop_pcd.points) \n",
    "color_point = np.asarray(crop_pcd.colors)\n",
    "normal_vector = np.asarray(crop_pcd.normals)\n",
    "\n",
    "print(\"point cloud: \\n\", point_cloud)\n",
    "print()\n",
    "print(\"normal vector: \\n\", normal_vector)\n",
    "print()\n",
    "print(\"color point: \\n\", color_point)"
   ]
  },
  {
   "cell_type": "code",
   "execution_count": 9,
   "id": "181d5bbe-6c14-4c44-92ff-4a2b7563dd49",
   "metadata": {
    "tags": []
   },
   "outputs": [
    {
     "data": {
      "text/plain": [
       "True"
      ]
     },
     "execution_count": 9,
     "metadata": {},
     "output_type": "execute_result"
    }
   ],
   "source": [
    "# Save to .ply in ASCII\n",
    "output_file_path = \"Dataset/cropped_ASCII.ply\"\n",
    "\n",
    "o3d.io.write_point_cloud(output_file_path, crop_pcd, write_ascii=True)"
   ]
  },
  {
   "cell_type": "code",
   "execution_count": 10,
   "id": "96c597f2-6789-4bef-bff2-1e4e35809b17",
   "metadata": {
    "tags": []
   },
   "outputs": [
    {
     "name": "stdout",
     "output_type": "stream",
     "text": [
      "shape: (69_665, 9)\n",
      "┌─────────┬─────────┬──────────┬───────────┬───┬───────────┬─────┬─────┬─────┐\n",
      "│ x       ┆ y       ┆ z        ┆ nx        ┆ … ┆ nz        ┆ r   ┆ g   ┆ b   │\n",
      "│ ---     ┆ ---     ┆ ---      ┆ ---       ┆   ┆ ---       ┆ --- ┆ --- ┆ --- │\n",
      "│ str     ┆ str     ┆ str      ┆ str       ┆   ┆ str       ┆ str ┆ str ┆ str │\n",
      "╞═════════╪═════════╪══════════╪═══════════╪═══╪═══════════╪═════╪═════╪═════╡\n",
      "│ 15.4481 ┆ 283.577 ┆ -94.7826 ┆ -0.32017  ┆ … ┆ -0.945351 ┆ 232 ┆ 232 ┆ 235 │\n",
      "│ 4.93769 ┆ 299.457 ┆ -94.6748 ┆ 0         ┆ … ┆ 1         ┆ 190 ┆ 190 ┆ 151 │\n",
      "│ 22.114  ┆ 298.999 ┆ -85.4413 ┆ 0         ┆ … ┆ 1         ┆ 77  ┆ 90  ┆ 56  │\n",
      "│ 22.3931 ┆ 269.564 ┆ -94.7922 ┆ 0.0808842 ┆ … ┆ 0.792344  ┆ 182 ┆ 190 ┆ 189 │\n",
      "│ 10.9315 ┆ 287.34  ┆ -94.6872 ┆ 0         ┆ … ┆ 1         ┆ 217 ┆ 221 ┆ 225 │\n",
      "│ …       ┆ …       ┆ …        ┆ …         ┆ … ┆ …         ┆ …   ┆ …   ┆ …   │\n",
      "│ 14.9662 ┆ 300.093 ┆ -88.1495 ┆ 0.0450678 ┆ … ┆ -0.872844 ┆ 98  ┆ 121 ┆ 90  │\n",
      "│ 31.3702 ┆ 301.127 ┆ -87.6172 ┆ 0         ┆ … ┆ 1         ┆ 59  ┆ 89  ┆ 61  │\n",
      "│ 16.5904 ┆ 281.49  ┆ -94.7436 ┆ 0.876669  ┆ … ┆ 0.441017  ┆ 192 ┆ 196 ┆ 148 │\n",
      "│ 17.368  ┆ 296.383 ┆ -94.7351 ┆ 0         ┆ … ┆ 1         ┆ 170 ┆ 167 ┆ 127 │\n",
      "│ 23.3608 ┆ 294.477 ┆ -86.0476 ┆ 0.0311663 ┆ … ┆ -0.405034 ┆ 130 ┆ 147 ┆ 110 │\n",
      "└─────────┴─────────┴──────────┴───────────┴───┴───────────┴─────┴─────┴─────┘\n"
     ]
    }
   ],
   "source": [
    "# set to Dataframe\n",
    "file_path = 'Dataset/cropped_ASCII.ply'\n",
    "\n",
    "data = []\n",
    "check = False\n",
    "\n",
    "with open(file_path, 'r') as file:\n",
    "    for line in file:\n",
    "        if check :\n",
    "            row = line.strip().split()\n",
    "            data.append(row)\n",
    "        elif \"end_header\" in line:\n",
    "            check = True\n",
    "            \n",
    "df = pl.DataFrame(data, schema=['x','y','z','nx','ny','nz','r','g','b'])\n",
    "print(df)"
   ]
  },
  {
   "cell_type": "code",
   "execution_count": 26,
   "id": "abc6400e-97d9-44fa-b417-b709692cb39e",
   "metadata": {
    "tags": []
   },
   "outputs": [
    {
     "name": "stdout",
     "output_type": "stream",
     "text": [
      "shape: (22_944, 9)\n",
      "┌─────────┬─────────┬──────────┬─────┬───┬─────┬─────┬─────┬─────┐\n",
      "│ x       ┆ y       ┆ z        ┆ nx  ┆ … ┆ nz  ┆ r   ┆ g   ┆ b   │\n",
      "│ ---     ┆ ---     ┆ ---      ┆ --- ┆   ┆ --- ┆ --- ┆ --- ┆ --- │\n",
      "│ str     ┆ str     ┆ str      ┆ str ┆   ┆ str ┆ str ┆ str ┆ str │\n",
      "╞═════════╪═════════╪══════════╪═════╪═══╪═════╪═════╪═════╪═════╡\n",
      "│ 10.9315 ┆ 287.34  ┆ -94.6872 ┆ 0   ┆ … ┆ 1   ┆ 217 ┆ 221 ┆ 225 │\n",
      "│ 29.1193 ┆ 300.459 ┆ -88.9445 ┆ 0   ┆ … ┆ 1   ┆ 96  ┆ 107 ┆ 90  │\n",
      "│ 11.8949 ┆ 289.82  ┆ -94.8386 ┆ 0   ┆ … ┆ 1   ┆ 154 ┆ 151 ┆ 154 │\n",
      "│ 15.2897 ┆ 298.695 ┆ -89.0619 ┆ 0   ┆ … ┆ 1   ┆ 92  ┆ 110 ┆ 85  │\n",
      "│ 9.16804 ┆ 290.979 ┆ -94.7592 ┆ 0   ┆ … ┆ 1   ┆ 207 ┆ 206 ┆ 203 │\n",
      "│ …       ┆ …       ┆ …        ┆ …   ┆ … ┆ …   ┆ …   ┆ …   ┆ …   │\n",
      "│ 19.116  ┆ 296.825 ┆ -86.1207 ┆ 0   ┆ … ┆ 1   ┆ 112 ┆ 135 ┆ 81  │\n",
      "│ 26.9506 ┆ 283.775 ┆ -94.7324 ┆ 0   ┆ … ┆ 1   ┆ 223 ┆ 226 ┆ 229 │\n",
      "│ 26.1628 ┆ 300.524 ┆ -88.0016 ┆ 0   ┆ … ┆ 1   ┆ 110 ┆ 110 ┆ 92  │\n",
      "│ 20.6588 ┆ 285.131 ┆ -94.7867 ┆ 0   ┆ … ┆ 1   ┆ 226 ┆ 229 ┆ 231 │\n",
      "│ 17.368  ┆ 296.383 ┆ -94.7351 ┆ 0   ┆ … ┆ 1   ┆ 170 ┆ 167 ┆ 127 │\n",
      "└─────────┴─────────┴──────────┴─────┴───┴─────┴─────┴─────┴─────┘\n"
     ]
    }
   ],
   "source": [
    "filter_crop = df.filter(\n",
    "    # with normal vector\n",
    "    (df['nz'] >= 0.9) &\n",
    "    (-0.2<df['ny']) & (df['ny']<0.2) &\n",
    "    (-0.2<df['nx']) & (df['nx']<0.2) &\n",
    "    # with color\n",
    "    ~( (df['g']>=df['b']) & (df['g']>=df['r']) ) \n",
    "    # ( (df['r']<=90) & (df['g']<=90) & (df['b']<=90) )\n",
    "    # (df['g']-df['r']<30) & \n",
    "    # (df['g']-df['b']<30)\n",
    ")\n",
    "\n",
    "print(filter_crop)"
   ]
  },
  {
   "cell_type": "code",
   "execution_count": 27,
   "id": "b36e0b21-2770-4004-9815-90b087b76c9b",
   "metadata": {
    "tags": []
   },
   "outputs": [],
   "source": [
    "# Credit by Kit\n",
    "\n",
    "with open(\"Dataset/filtered_crop.ply\", 'w') as file:\n",
    "    with open(\"Dataset/cropped_ASCII.ply\", 'r') as ori_file:\n",
    "        for line in ori_file:\n",
    "            if \"end_header\" in line:\n",
    "                file.write(line)\n",
    "                ori_file.close()\n",
    "                break\n",
    "            else:\n",
    "                if \"element vertex\" in line:\n",
    "                    file.write(\"element vertex {}\\n\".format(filter_crop.shape[0]))\n",
    "                    continue\n",
    "                file.write(line)\n",
    "    for row in filter_crop.to_dicts():\n",
    "        file.write(str(row['x']) + ' ')\n",
    "        file.write(str(row['y']) + ' ')\n",
    "        file.write(str(row['z']) + ' ')\n",
    "        file.write(str(row['nx']) + ' ')\n",
    "        file.write(str(row['ny']) + ' ')\n",
    "        file.write(str(row['nz']) + ' ')\n",
    "        file.write(str(row['r']) + ' ')\n",
    "        file.write(str(row['g']) + ' ')\n",
    "        file.write(str(row['b']) + '\\n')"
   ]
  },
  {
   "cell_type": "code",
   "execution_count": 29,
   "id": "46accfcd-6a16-4564-b2a0-062e93ebb0e7",
   "metadata": {
    "tags": []
   },
   "outputs": [
    {
     "name": "stdout",
     "output_type": "stream",
     "text": [
      "PointCloud with 22944 points.\n"
     ]
    }
   ],
   "source": [
    "path_filter_crop = \"Dataset/filtered_crop.ply\"\n",
    "\n",
    "filter_crop_pcd = o3d.io.read_point_cloud(path_filter_crop)\n",
    "print(filter_crop_pcd)\n",
    "o3d.visualization.draw_geometries([filter_crop_pcd])"
   ]
  },
  {
   "cell_type": "code",
   "execution_count": null,
   "id": "edbd9a1b-887a-441d-a949-0b8ed6b3d124",
   "metadata": {},
   "outputs": [],
   "source": []
  }
 ],
 "metadata": {
  "kernelspec": {
   "display_name": "Python 3 (ipykernel)",
   "language": "python",
   "name": "python3"
  },
  "language_info": {
   "codemirror_mode": {
    "name": "ipython",
    "version": 3
   },
   "file_extension": ".py",
   "mimetype": "text/x-python",
   "name": "python",
   "nbconvert_exporter": "python",
   "pygments_lexer": "ipython3",
   "version": "3.11.5"
  }
 },
 "nbformat": 4,
 "nbformat_minor": 5
}
